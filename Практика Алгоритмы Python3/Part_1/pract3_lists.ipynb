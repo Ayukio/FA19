{
 "cells": [
  {
   "cell_type": "markdown",
   "metadata": {},
   "source": [
    "### Задача1\n",
    "Нaпишите программу, на вход которой подаётся список чисел одной строкой.\n",
    "Программа должна для каждого элемента этого списка вывести сумму двух его cоседей.\n",
    "Для элeментов списка, являющиxся крайними, одним из соседей считается элемент,\n",
    "находящий на противоположном конце этого списка."
   ]
  },
  {
   "cell_type": "code",
   "execution_count": null,
   "metadata": {},
   "outputs": [],
   "source": [
    "a = [int(i) for i in input().split()]\n",
    "b = []\n",
    "l = len(a) - 1 #длина списка\n",
    "k = 0   #значение элемента\n",
    "i = 0   #счетчик\n",
    "if len(a)==0:\n",
    "    print(\"0\")\n",
    "else:\n",
    "    for x in a:\n",
    "        if len(a)==1: #если длина равна 1 символу\n",
    "            k = a[i]\n",
    "            b.append(k)        \n",
    "        elif len(a)>1: #если длина больше одного символа\n",
    "            if i==0:           \n",
    "                k = a[i+1] + a[-1] #для первого элемента\n",
    "                b.append(k)\n",
    "            elif i>0 and i<l:\n",
    "                k=a[i-1]+a[i+1] #для последующих элементов\n",
    "                b.append(k)\n",
    "            elif i==l:\n",
    "                k = a[i-1]+a[0] #для последнего элемента\n",
    "                b.append(k)       \n",
    "        i +=1\n",
    "    j = 0\n",
    "    for world in b:\n",
    "        print(str(b[j])+' ',end='') #вывод нашего списка в одну строку\n",
    "        j +=1"
   ]
  },
  {
   "cell_type": "markdown",
   "metadata": {},
   "source": [
    "### Задача2\n",
    "Нaпишите прогрaмму, котoрая принимает на вход спиcок чисел в одной cтроке и выводит на\n",
    "экран в oдну строкy значения,\n",
    "котoрые повторяются в нём бoлее одного раза.\n",
    "Выводимые числа не дoлжны повторяться, пoрядок их вывода может быть произвольным.\n"
   ]
  },
  {
   "cell_type": "code",
   "execution_count": null,
   "metadata": {},
   "outputs": [],
   "source": [
    "a = [int(i) for i in input().split()]\n",
    "print(\"Список:\",*[i for i in set(a) if a.count(i) > 1]) "
   ]
  },
  {
   "cell_type": "markdown",
   "metadata": {},
   "source": [
    "### Задача3\n",
    "Выполните oбработку элементов прямоoгольной матрицы A, имеющей N строк и M столбцов.\n",
    "Все элeменты имeют целый тип. Дано целое число H.\n",
    "Опрeделите, какие столбцы имeют хотя бы однo такое число, а какие не имeют.\n"
   ]
  },
  {
   "cell_type": "code",
   "execution_count": 1,
   "metadata": {},
   "outputs": [
    {
     "name": "stdout",
     "output_type": "stream",
     "text": [
      "Введите N(кол-во строк): 4\n",
      "Введите M(кол-во столбцов): 3\n",
      "Введите H(число): 2\n",
      "[[7, 0, 1], [3, 7, 10], [6, 5, 0], [6, 7, 10]]\n"
     ]
    }
   ],
   "source": [
    "from random import randint\n",
    " \n",
    "n = int(input('Введите N(кол-во строк): '))\n",
    "m = int(input('Введите M(кол-во столбцов): '))\n",
    "h = int(input('Введите H(число): '))\n",
    "arr = [[randint(0,10) for ie in range (m)] for ie in range (n)]\n",
    "\n",
    "print(arr)\n",
    "\n",
    "for i in range(n): #строки\n",
    "    for j in range(m): #столбцы\n",
    "        if arr [i][j] == h:\n",
    "            print('строка {} столбец {} содержит цифру {}'.format(i+1,j+1,h))\n"
   ]
  },
  {
   "cell_type": "markdown",
   "metadata": {},
   "source": [
    "### Задача4\n",
    "Список задается пользователем с клавиатуры. Определите, является ли список симметричным"
   ]
  },
  {
   "cell_type": "code",
   "execution_count": null,
   "metadata": {},
   "outputs": [],
   "source": [
    "a = [int(i) for i in input().split()]\n",
    "b=a.copy()\n",
    "b.reverse()\n",
    "if a==b:\n",
    "    print(\"Список симметричен\")\n",
    "else:\n",
    "    print(\"Не симметричен\")"
   ]
  },
  {
   "cell_type": "markdown",
   "metadata": {},
   "source": [
    "### Задача5\n",
    "Список задается пользователем с клавиатуры.\n",
    "Определите, можно ли удалить из списка каких-нибудь два элемента так, чтобы новый список оказался упорядоченным"
   ]
  },
  {
   "cell_type": "code",
   "execution_count": 1,
   "metadata": {},
   "outputs": [
    {
     "name": "stdout",
     "output_type": "stream",
     "text": [
      "Список: 1 2 4 3 5 9\n",
      "Длина списка: 6\n",
      "Введите номер элемента: 2\n",
      "Введите номер элемента: 4\n",
      "Измененный список  [1, 2, 3, 5]\n",
      "Список упорядочен\n"
     ]
    }
   ],
   "source": [
    "a = [int(i) for i in input(\"Список: \").split()]\n",
    "k=0\n",
    "print('Длина списка:',len(a))\n",
    "while k<2:\n",
    "    b=int(input(\"Введите номер элемента: \"))\n",
    "    if b>=len(a):   #проверка на длину списка\n",
    "        continue\n",
    "    if b<=len(a):    #удаление двух элементов\n",
    "        a.pop(b) \n",
    "        k+=1\n",
    "print(\"Измененный список \",a)\n",
    "if a == sorted(a): #проверка на упорядоченность\n",
    "    print(\"Список упорядочен\")\n",
    "else:\n",
    "    print(\"Список не упорядочен\")"
   ]
  },
  {
   "cell_type": "markdown",
   "metadata": {},
   "source": [
    "### Задача6\n",
    "Список задается пользователем с клавиатуры.\n",
    "Определите, сколько различных значений содержится в списке."
   ]
  },
  {
   "cell_type": "code",
   "execution_count": null,
   "metadata": {},
   "outputs": [],
   "source": [
    "print(len(set(input().split())))\n"
   ]
  },
  {
   "cell_type": "markdown",
   "metadata": {},
   "source": [
    "### Задача7\n",
    "Список задается пользователем с клавиатуры.\n",
    "Удаление из списка элементов, значения которых уже встречались в предыдущих элементах"
   ]
  },
  {
   "cell_type": "code",
   "execution_count": null,
   "metadata": {},
   "outputs": [],
   "source": [
    "spisok = input(\"Список: \").split()\n",
    "set1 = set(spisok)\n",
    "print(list(set1))"
   ]
  },
  {
   "cell_type": "markdown",
   "metadata": {},
   "source": [
    "### Задача8\n",
    "Пользователь вводит упорядоченный список книг (заданной длины по алфавиту). Добавить новую книгу, сохранив упорядоченность списка по алфавиту"
   ]
  },
  {
   "cell_type": "code",
   "execution_count": null,
   "metadata": {
    "scrolled": true
   },
   "outputs": [],
   "source": [
    "alp = input(\"Список книг: \").split()\n",
    "alp = sorted(alp)\n",
    "b = input(\"Добавить книгу: \")         \n",
    "alp.append(b)       \n",
    "alp = sorted(alp)\n",
    "print(alp)"
   ]
  },
  {
   "cell_type": "markdown",
   "metadata": {},
   "source": [
    "### Задача9\n",
    "Дан список целых чисел. Упорядочьте по возрастанию только:  \n",
    "а) положительные числа;   \n",
    "б) элементы с четными порядковыми номерами в списке."
   ]
  },
  {
   "cell_type": "code",
   "execution_count": null,
   "metadata": {},
   "outputs": [],
   "source": [
    "a = [int(i) for i in input(\"Список: \").split()]\n",
    "b=[]\n",
    "for i in range(len(a)):\n",
    "    if a[i] > 0 and i%2==0:\n",
    "        b.append(a[i])\n",
    "b.sort()\n",
    "print(b)\n"
   ]
  },
  {
   "cell_type": "markdown",
   "metadata": {},
   "source": [
    "### Задача10\n",
    "Даны два списка. Определите, совпадают ли множества их элементов."
   ]
  },
  {
   "cell_type": "code",
   "execution_count": null,
   "metadata": {},
   "outputs": [],
   "source": [
    "a = (input(\"Список 1: \").split())\n",
    "b = (input(\"Список 2: \").split())\n",
    "c = list(set(a) & set(b))\n",
    "print(c)"
   ]
  },
  {
   "cell_type": "markdown",
   "metadata": {},
   "source": [
    "### Задача11\n",
    "Дан список. После каждого элемента добавьте предшествующую ему часть списка."
   ]
  },
  {
   "cell_type": "code",
   "execution_count": null,
   "metadata": {},
   "outputs": [],
   "source": [
    "a = [int(i) for i in input(\"Список: \").split()]\n",
    "b = []\n",
    "for i in range(len(a)):\n",
    "    for j in range(i+1):\n",
    "        b.append(a[j])\n",
    "print(b)"
   ]
  },
  {
   "cell_type": "markdown",
   "metadata": {},
   "source": [
    "### Задача12\n",
    "Пусть элементы списка хранят символы предложения. Замените каждое вхождение слова \"itmathrepetitor\" на \"silence\"."
   ]
  },
  {
   "cell_type": "code",
   "execution_count": null,
   "metadata": {},
   "outputs": [],
   "source": [
    "a = input(\"Список: \")\n",
    "print(a.replace(\"itmathrepetitor\",\"silence\"))"
   ]
  },
  {
   "cell_type": "markdown",
   "metadata": {},
   "source": [
    "### Задача13\n",
    "Дан текстовый файл. Создайте двусвязный список, каждый элемент которого содержит\n",
    "количество символов в соответствующей строке текста."
   ]
  },
  {
   "cell_type": "code",
   "execution_count": 1,
   "metadata": {},
   "outputs": [
    {
     "name": "stdout",
     "output_type": "stream",
     "text": [
      "Список: Александр Баранов world\n",
      "[[9, 'Александр'], [7, 'Баранов'], [5, 'world']]\n"
     ]
    }
   ],
   "source": [
    "a = (input(\"Список: \").split())\n",
    "b = []\n",
    "for i in range(len(a)):\n",
    "    b.append([len(a[i]), a[i]]) \n",
    "print(b)\n"
   ]
  },
  {
   "cell_type": "markdown",
   "metadata": {},
   "source": [
    "### Задача14\n",
    "Создайте двусвязный список групп факультета. Каждая группа представляет собой односвязный список студентов."
   ]
  },
  {
   "cell_type": "code",
   "execution_count": 2,
   "metadata": {},
   "outputs": [
    {
     "name": "stdout",
     "output_type": "stream",
     "text": [
      "Список студентов: Баранов,Лихачев; Румянцев,Быков; Поликарпова,Александрова\n",
      "[['PI19-1', 'Баранов,Лихачев'], ['PI19-2', 'Румянцев,Быков'], ['PI19-3', 'Поликарпова,Александрова']]\n"
     ]
    }
   ],
   "source": [
    "a = (input(\"Список студентов: \").split(\"; \"))\n",
    "b = []\n",
    "for i in range(len(a)):\n",
    "    name = 'PI19-{}'.format(i+1)\n",
    "    b.append([name, a[i]])\n",
    "print(b)"
   ]
  },
  {
   "cell_type": "markdown",
   "metadata": {},
   "source": [
    "### Задача15\n",
    "Дан список студентов. Элемент списка содержит фамилию, имя, отчество, год рождения, курс, номер группы,оценки по пяти предметам. Упорядочите студентов по курсу, причем студенты одного курса\n",
    "располагались в алфавитном порядке.\n",
    "Найдите средний балл каждой группы по каждому предмету. Определите самого старшего студента и самого младшего студентов.\n",
    "Для каждой группы найдите лучшего с точки зрения успеваемости студента."
   ]
  },
  {
   "cell_type": "code",
   "execution_count": 12,
   "metadata": {},
   "outputs": [
    {
     "name": "stdout",
     "output_type": "stream",
     "text": [
      "Студенты:  ['Баранов 1 курс', 'Быков 1 курс', 'Королев 2 курс', 'Лихачев 2 курс']\n",
      "-------------------------------------------\n",
      "Сред.Арифм по 1 предмету для группы 3:  5.0\n",
      "Сред.Арифм по 2 предмету для группы 3:  4.0\n",
      "Сред.Арифм по 3 предмету для группы 3:  4.5\n",
      "Сред.Арифм по 4 предмету для группы 3:  5.0\n",
      "Сред.Арифм по 5 предмету для группы 3:  4.0\n",
      "-------------------------------------------\n",
      "Сред.Арифм по 1 предмету для группы 2:  4.0\n",
      "Сред.Арифм по 2 предмету для группы 2:  3.0\n",
      "Сред.Арифм по 3 предмету для группы 2:  4.0\n",
      "Сред.Арифм по 4 предмету для группы 2:  5.0\n",
      "Сред.Арифм по 5 предмету для группы 2:  4.0\n",
      "-------------------------------------------\n",
      "Старший студент:  Королев Вадим Юрьевич\n",
      "Младший студент:  Быков Егор Глебович\n",
      "\u001b[1mЛучший по успеваемости:  \u001b[0mБыков Егор Глебович\n"
     ]
    }
   ],
   "source": [
    "spisok = [[\"Быков\", \"Егор\", \"Глебович\", \"2002\", \"1 курс\", \"3 группа\",\\\n",
    "           \"5\", \"4\", \"5\", \"5\", \"4\"]]\n",
    "spisok.append([\"Баранов\", \"Александр\", \"Вячеславович\", \"2001\", \"1 курс\",\\\n",
    "               \"3 группа\", \"5\", \"4\", \"4\", \"5\", \"4\"])\n",
    "spisok.append([\"Лихачев\", \"Марк\", \"Игоревич\", \"2001\", \"2 курс\",\\\n",
    "               \"2 группа\", \"5\", \"4\", \"4\", \"5\", \"4\"])\n",
    "spisok.append([\"Королев\", \"Вадим\", \"Юрьевич\", \"2000\", \"2 курс\",\\\n",
    "               \"2 группа\", \"3\", \"2\", \"4\", \"5\", \"4\"])\n",
    "course=[]\n",
    "names=[]\n",
    "stud=[]\n",
    "sr1=0; sr2=0; sr3=0; sr4=0; sr5=0; sr6=0; sr7=0; sr8=0; sr9=0; sr10=0\n",
    "count1=0; count2=0\n",
    "min_data=1900; max_data=2019\n",
    "senior=0 # Старший\n",
    "junior=0 # Младший\n",
    "best=0   #Лучший балл\n",
    "name_best=None\n",
    "for i in range(len(spisok)):\n",
    "    for j in range(len(spisok[i])):\n",
    "        if j == 4:\n",
    "            course.append(spisok[i][j])\n",
    "            course.sort()\n",
    "            names.append(spisok[i][0])\n",
    "for i in range(len(names)):\n",
    "    stud.append(names[i] + \" \" + course[i])\n",
    "    stud.sort()\n",
    "print(\"Студенты: \", stud)\n",
    "for i in range(len(spisok)):  # Сред.Арифм\n",
    "    if spisok[i][5] == \"3 группа\":\n",
    "        count1 += 1\n",
    "        sr1 += int(spisok[i][6]); sr2 += int(spisok[i][7])\n",
    "        sr3 += int(spisok[i][8]); sr4 += int(spisok[i][9])\n",
    "        sr5 += int(spisok[i][10])\n",
    "    elif spisok[i][5] == \"2 группа\":\n",
    "        count2 += 1\n",
    "        sr6 += int(spisok[i][6]); sr7 += int(spisok[i][7])\n",
    "        sr8 += int(spisok[i][8]); sr9 += int(spisok[i][9])\n",
    "        sr10 += int(spisok[i][10])\n",
    "print(\"-------------------------------------------\")\n",
    "print(\"Сред.Арифм по 1 предмету для группы 3: \", sr1/count1)\n",
    "print(\"Сред.Арифм по 2 предмету для группы 3: \", sr2/count1)\n",
    "print(\"Сред.Арифм по 3 предмету для группы 3: \", sr3/count1)\n",
    "print(\"Сред.Арифм по 4 предмету для группы 3: \", sr4/count1)\n",
    "print(\"Сред.Арифм по 5 предмету для группы 3: \", sr5/count1)\n",
    "print(\"-------------------------------------------\")\n",
    "print(\"Сред.Арифм по 1 предмету для группы 2: \", sr6/count2)\n",
    "print(\"Сред.Арифм по 2 предмету для группы 2: \", sr7/count2)\n",
    "print(\"Сред.Арифм по 3 предмету для группы 2: \", sr8/count2)\n",
    "print(\"Сред.Арифм по 4 предмету для группы 2: \", sr9/count2)\n",
    "print(\"Сред.Арифм по 5 предмету для группы 2: \", sr10/count2)\n",
    "print(\"-------------------------------------------\")\n",
    "for i in range(len(spisok)):     # Старший/Младший.\n",
    "    if int(spisok[i][3]) < max_data:\n",
    "        max_data = int(spisok[i][3])\n",
    "        senior = i\n",
    "    if int(spisok[i][3]) > min_data:\n",
    "        min_data = int(spisok[i][3])\n",
    "        junior = i\n",
    "print(\"Старший студент: \", spisok[senior][0], spisok[senior][1],\\\n",
    "      spisok[senior][2])\n",
    "print(\"Младший студент: \", spisok[junior][0], spisok[junior][1],\\\n",
    "      spisok[junior][2])\n",
    "for i in range(len(spisok)):  # Лучший по успеваемости.\n",
    "    if int(spisok[i][6]) + int(spisok[i][7]) + int(spisok[i][8]) \\\n",
    "    + int(spisok[i][9]) + int(spisok[i][10]) > best:\n",
    "        best = int(spisok[i][6]) + int(spisok[i][7]) + int(spisok[i][8]) \\\n",
    "        + int(spisok[i][9]) + int(spisok[i][10])\n",
    "        name_best = i\n",
    "print(\"\\033[1mЛучший по успеваемости: \",'\\033[0m' + spisok[name_best][0], \\\n",
    "      spisok[name_best][1], spisok[name_best][2],)"
   ]
  },
  {
   "cell_type": "code",
   "execution_count": null,
   "metadata": {},
   "outputs": [],
   "source": []
  }
 ],
 "metadata": {
  "kernelspec": {
   "display_name": "Python 3",
   "language": "python",
   "name": "python3"
  },
  "language_info": {
   "codemirror_mode": {
    "name": "ipython",
    "version": 3
   },
   "file_extension": ".py",
   "mimetype": "text/x-python",
   "name": "python",
   "nbconvert_exporter": "python",
   "pygments_lexer": "ipython3",
   "version": "3.7.3"
  }
 },
 "nbformat": 4,
 "nbformat_minor": 2
}
