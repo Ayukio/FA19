{
 "cells": [
  {
   "cell_type": "markdown",
   "metadata": {},
   "source": [
    "###### Задача2 - функции и работа с файлами KeyboardInterrupt and IOError\n",
    "Реализовать создание, запись, чтение и удаление файла с данными о пользователе."
   ]
  },
  {
   "cell_type": "code",
   "execution_count": 37,
   "metadata": {},
   "outputs": [
    {
     "name": "stdout",
     "output_type": "stream",
     "text": [
      "1 - create a file\n",
      "2 - add a text in file\n",
      "3 - read a file\n",
      "4 - remove a file\n",
      "0 - exit\n",
      "\n",
      "Make a choice between 0-4 types: 3\n",
      "Filename: tic\n",
      "No such file or directory\n"
     ]
    }
   ],
   "source": [
    "# \\\\ IOError \\\\ OSError \\\\ NameError \\\\ KeyboardInterrupt\n",
    "import os\n",
    "def FileWork():\n",
    "    print(\"1 - create a file\")\n",
    "    print(\"2 - add a text in file\")\n",
    "    print(\"3 - read a file\")\n",
    "    print(\"4 - remove a file\")\n",
    "    print(\"0 - exit\\n\")\n",
    "    oper = \"\"\n",
    "\n",
    "    oper = input(\"Make a choice between 0-4 types: \")\n",
    "\n",
    "    if oper == \"1\":\n",
    "        filename = input(\"Enter name of your file: \")\n",
    "        my_file = open(filename, mode = \"w\")\n",
    "        print(\"File with name \" + filename + \" has been created\")\n",
    "        my_file.close()\n",
    "    elif oper == \"2\":\n",
    "        filename = input(\"Filename: \")\n",
    "        text = input(\"Text: \")\n",
    "        my_file = open(filename, \"a\")\n",
    "        my_file.write(text)\n",
    "        my_file.close()\n",
    "    elif oper == \"3\":\n",
    "        filename = input(\"Filename: \")\n",
    "        try:\n",
    "            my_file = open(filename, \"r\")\n",
    "            print(\"Text from file:\\n\")\n",
    "            print(my_file.read())\n",
    "            my_file.close()\n",
    "        except IOError:\n",
    "            print(\"No such file or directory\")\n",
    "\n",
    "    elif oper == \"4\":\n",
    "        filename = input(\"Filename: \")\n",
    "        try:\n",
    "            os.remove(filename)\n",
    "            print(\"File has been deleted\")\n",
    "        except (OSError, NameError):\n",
    "            print(\"File doesn't exist\")\n",
    "\n",
    "    else:\n",
    "        print(\"Enter 0-4 types\")    \n",
    "k = 0\n",
    "while k == 0:\n",
    "    try:\n",
    "        FileWork()\n",
    "        k = 1\n",
    "    except KeyboardInterrupt:\n",
    "        print(\"Вызов KeyboardInterrupt, но не ошибка\")"
   ]
  },
  {
   "cell_type": "markdown",
   "metadata": {},
   "source": [
    "###### Задача1 - словари KeyError and AttributeError\n",
    "Создать словарь адрессной книги, содержащий ФИО и адрес. Заполнить его 50 элементами. Реализовать поиск по фамилии."
   ]
  },
  {
   "cell_type": "code",
   "execution_count": 2,
   "metadata": {},
   "outputs": [
    {
     "name": "stdout",
     "output_type": "stream",
     "text": [
      "Введите фамилию: \n",
      "AttributeError - не знаю зачем но ладно\n",
      "Фамилии нет\n"
     ]
    }
   ],
   "source": [
    "# \\\\ KeyError \\\\ AttributeError\n",
    "d = {\"Александрова\": \"Александрова Дарья Игоревна адрес1\", \"Баранов\": \"Баранов Александр Вячеславович адрес2\", \n",
    "     \"Брусова\": \"Брусова П.И. адрес3\", \"Волкова\": \"Волкова К.В. адрес4\", \"Гасанова\": \"Гасанова Р.Г. адрес5\", \n",
    "     \"Данилин\": \"Данилин А.А. адрес6\", \"Егоров\": \"Егоров Н.А. адрес7\", \"Зелянина\": \"Зелянина А.Г. адрес8\", \n",
    "     \"Капралов\": \"Капралов Н.Е. адрес9\", \"Ковалев\": \"Ковалев А.И. адрес10\", \"Костюченко\": \"Костюченко И.В. адрес11\", \n",
    "     \"Кузин\": \"Кузин В.Г. адрес12\", \"Лихачев\": \"Лихачев М.И. адрес13\", \"Маринин\": \"Маринин Р.Г. адрес14\", \n",
    "     \"Мерзляков\": \"Мерзляков Д.А. адрес15\", \"Омаров\": \"Омаров И.Д. адрес16\", \"Поликарпова\": \n",
    "     \"Поликарпова Е.И. адрес17\", \"Попова\": \"Попова С.А. адрес18\", \"Саакян\": \"Саакян Д.А. адрес19\", \n",
    "     \"Соколова\": \"Соколова А.В. адрес20\", \"Телицын\": \"Телицын Е.А адрес21\", \"Устимова\": \"Устимова С.С. адрес22\",\n",
    "     \"Хамикоева\": \"Хамикоева О.Р. адрес23\", \"Шин\": \"Шин А.Е. адрес24\", \n",
    "     \"Кучерявенко\": \"Кучерявенко Никита адрес25\"\n",
    "    }\n",
    "fam = input(\"Введите фамилию: \").title()\n",
    "try:\n",
    "    fam.attr = 10\n",
    "except AttributeError:\n",
    "    print(\"AttributeError\")\n",
    "for i in d:\n",
    "    if fam in d:\n",
    "        print(\"Данные:\", d[fam])\n",
    "        break\n",
    "    else:\n",
    "        try:\n",
    "            print(d[fam])\n",
    "        except(KeyError):\n",
    "            print(\"Фамилии нет\")\n",
    "            break      "
   ]
  },
  {
   "cell_type": "markdown",
   "metadata": {},
   "source": [
    "##### Задача1 - списки Exception and IndexError\n",
    "Нaпишите программу, на вход которой подаётся список чисел одной строкой.\n",
    "Программа должна для каждого элемента этого списка вывести сумму двух его cоседей.\n",
    "Для элeментов списка, являющиxся крайними, одним из соседей считается элемент,\n",
    "находящий на противоположном конце этого списка."
   ]
  },
  {
   "cell_type": "code",
   "execution_count": 31,
   "metadata": {},
   "outputs": [
    {
     "name": "stdout",
     "output_type": "stream",
     "text": [
      "1 2 3\n",
      "Вариант с ошибкой IndexError\n",
      "5 4 3 "
     ]
    }
   ],
   "source": [
    "# \\\\ Exception \\\\ IndexError\n",
    "# Такое себе\n",
    "try:\n",
    "    a = [int(i) for i in input().split()]\n",
    "    b = []\n",
    "    i = 0\n",
    "    if len(a) == 0:\n",
    "        print(\"0\")\n",
    "    else:\n",
    "        for x in a:\n",
    "            if len(a) == 1:\n",
    "                b.append(a[i])\n",
    "            elif len(a) > 1:\n",
    "                try:\n",
    "                    if i == 0:\n",
    "                        b.append(a[i+1] + a[-1])\n",
    "                    elif i>0 and i < len(a):\n",
    "                        b.append(a[i-1] + a[i+1])\n",
    "                    elif i == len(a):\n",
    "                        b.append(a[i-1] + a[0])\n",
    "                except(IndexError):\n",
    "                    print(\"Вариант с ошибкой IndexError\")\n",
    "                    if i == 0:\n",
    "                        b.append(a[i+1] + a[-1])\n",
    "                    elif i>0 and i < len(a)-1:\n",
    "                        b.append(a[i-1] + a[i+1])\n",
    "                    elif i == len(a)-1:\n",
    "                        b.append(a[i-1] + a[0])\n",
    "\n",
    "            i += 1\n",
    "        j = 0\n",
    "        for world in b:\n",
    "            print(str(b[j])+' ',end='') \n",
    "            j +=1         \n",
    "except Exception:\n",
    "    print(\"Ooops!\")\n",
    "                "
   ]
  }
 ],
 "metadata": {
  "kernelspec": {
   "display_name": "Python 3",
   "language": "python",
   "name": "python3"
  },
  "language_info": {
   "codemirror_mode": {
    "name": "ipython",
    "version": 3
   },
   "file_extension": ".py",
   "mimetype": "text/x-python",
   "name": "python",
   "nbconvert_exporter": "python",
   "pygments_lexer": "ipython3",
   "version": "3.7.3"
  }
 },
 "nbformat": 4,
 "nbformat_minor": 2
}
