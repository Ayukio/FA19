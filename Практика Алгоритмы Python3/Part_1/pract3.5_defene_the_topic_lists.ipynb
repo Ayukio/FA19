{
 "cells": [
  {
   "cell_type": "code",
   "execution_count": 1,
   "metadata": {},
   "outputs": [
    {
     "name": "stdout",
     "output_type": "stream",
     "text": [
      "[-4, -9, -7, 6, 9]\n",
      "[5, -3, -3, 7, -5]\n",
      "[-7, -10, -7, -7, 5]\n",
      "[9, -5, 4, 0, -7]\n",
      "[1, -7, 2, 5, 3]\n",
      "Отрицательный максимум: -3\n",
      "Положительный минимум на второстепенной диагонали: 1\n",
      "Сумма1: -14\n",
      "Сумма2(второстепенная диагональ): 5\n",
      "Сумма общая: -2\n"
     ]
    }
   ],
   "source": [
    "from random import randint\n",
    "sum1=0\n",
    "sum2=0\n",
    "sum_all=0\n",
    "negative_maximum=-10  \n",
    "positive_minimum=10\n",
    "arr = [[0 for i in range(5)] for j in range(5)]\n",
    "for i in range(5):\n",
    "    for j in range(5):\n",
    "        arr[i][j] = randint(-10, 10)\n",
    "        if arr[i][j] > negative_maximum and arr[i][j] < 0: \n",
    "            negative_maximum = arr[i][j]\n",
    "# Отрицательный максимум.    \n",
    "sum1 = int(arr[0][0]) + int(arr[1][1]) + int(arr[2][2])\n",
    "sum2 = int(arr[0][4]) + int(arr[1][3]) + int(arr[2][2]) + int(arr[3][1]) + int(arr[4][0])\n",
    "sum_all = sum1 + sum2 - int(arr[2][2])\n",
    "# Сумма 1,2 и общая.\n",
    "for i in range(5):\n",
    "    print(arr[i])\n",
    "    \n",
    "for i in range(5):\n",
    "    for j in range(5):\n",
    "        if arr[0][4] < positive_minimum and int(arr[0][4])>0:\n",
    "            positive_minimum =int(arr[0][4])\n",
    "        if arr[1][3] < positive_minimum and int(arr[1][3])>0:\n",
    "            positive_minimum =int(arr[1][3]) \n",
    "        if arr[2][2] < positive_minimum and int(arr[2][2])>0:\n",
    "            positive_minimum =int(arr[2][2])\n",
    "        if arr[3][1] < positive_minimum and int(arr[3][1])>0:\n",
    "            positive_minimum =int(arr[3][1])\n",
    "        if arr[4][0] < positive_minimum and int(arr[4][0])>0:\n",
    "            positive_minimum =int(arr[4][0])\n",
    "# Положительный минимум на второстепенной диагонали.\n",
    "print(\"Отрицательный максимум:\", negative_maximum)\n",
    "print(\"Положительный минимум на второстепенной диагонали:\", positive_minimum)\n",
    "print(\"Сумма1:\", sum1)\n",
    "print(\"Сумма2(второстепенная диагональ):\", sum2)\n",
    "print(\"Сумма общая:\", sum_all)"
   ]
  },
  {
   "cell_type": "code",
   "execution_count": null,
   "metadata": {},
   "outputs": [],
   "source": []
  }
 ],
 "metadata": {
  "kernelspec": {
   "display_name": "Python 3",
   "language": "python",
   "name": "python3"
  },
  "language_info": {
   "codemirror_mode": {
    "name": "ipython",
    "version": 3
   },
   "file_extension": ".py",
   "mimetype": "text/x-python",
   "name": "python",
   "nbconvert_exporter": "python",
   "pygments_lexer": "ipython3",
   "version": "3.7.3"
  }
 },
 "nbformat": 4,
 "nbformat_minor": 2
}
