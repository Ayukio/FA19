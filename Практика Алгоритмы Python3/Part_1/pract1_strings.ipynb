{
 "cells": [
  {
   "cell_type": "code",
   "execution_count": 2,
   "metadata": {},
   "outputs": [
    {
     "name": "stdout",
     "output_type": "stream",
     "text": [
      "Ключ:5\n",
      "Введите текст для зашифровки:hello world\n",
      "Зашифровано: mjqqt 1twqi\n",
      "Введите текст для расшифровки:mjqqt 1twqi\n",
      "Расшифровано: hello world\n"
     ]
    }
   ],
   "source": [
    "#Шифр Цезаря\n",
    "alp =\"\"\n",
    "for i in range(ord(\"0\"),ord(\"z\")+1): #Создаем алфaвит\n",
    "    alp+=chr(i)\n",
    "key = int(input(\"Ключ:\"))\n",
    "res=\"\"\n",
    "text = input(\"Введите текст для зашифровки:\")\n",
    "for message in text:\n",
    "    if message==\" \":             #если сообщение содержит пропуск то\n",
    "        res +=\" \"                #в результат прибавить пустой символ\n",
    "    else:                        \n",
    "        res += alp[(alp.index(message) + key) % len(alp)]                 \n",
    "print(\"Зашифровано:\",res) \n",
    "res=\"\"\n",
    "text = input(\"Введите текст для расшифровки:\")\n",
    "for message in text:\n",
    "    if message==\" \":             #если сообщение содержит пропуск то\n",
    "        res +=\" \"                #в результат прибавить пустой символ\n",
    "    else:                        \n",
    "        res += alp[(alp.index(message) - key) % len(alp)]                 \n",
    "print(\"Расшифровано:\",res) \n",
    "\n"
   ]
  },
  {
   "cell_type": "code",
   "execution_count": 2,
   "metadata": {},
   "outputs": [
    {
     "name": "stdout",
     "output_type": "stream",
     "text": [
      "Введите кодовое слово,используя верхний регистр:HELLO\n",
      "Введите сообщение для зашифровки,используя верхний регистр:WORLD\n",
      "Зашифрованное сообщение: WNRJO\n",
      "Введите сообщение для расшифровки,используя верхний регистр:WNRJO\n",
      "Расшифованное сообщение: WORLD\n"
     ]
    }
   ],
   "source": [
    "#Шифр с кодовым словом\n",
    "alp=\"\"\n",
    "for i in range(ord('A'),ord('Z')+1):\n",
    "    alp+=chr(i)\n",
    "ALP=alp\n",
    "key=input('Введите кодовое слово,используя верхний регистр:')\n",
    "l = 1000\n",
    "for i in range(len(key)):\n",
    "    for j in range(len(ALP)):\n",
    "        if key[i]==ALP[j]:\n",
    "            ALP=ALP[:j]+ chr(l)+ALP[j+1:]\n",
    "            l+=1\n",
    "l = 1000\n",
    "key = ''\n",
    "for i in range(len(ALP)):   #избавляемся от повторяющихся букв\n",
    "    if ALP.find(chr(l)) != -1:\n",
    "        key += alp[ALP.find(chr(l))]\n",
    "        l+=1\n",
    "ALP=alp             #сохраняем алфавит\n",
    "for i in alp:\n",
    "    for j in key:\n",
    "        if i == j:\n",
    "            alp = alp[:alp.find(i)] + alp[alp.find(i)+1:]\n",
    "alp = key + alp #удаляем буквы кодового слова из алфавита и создаем изменненый алфавит\n",
    "res=''\n",
    "message = input('Введите сообщение для зашифровки,используя верхний регистр:')\n",
    "for i in message:\n",
    "    res+=alp[ALP.find(i)]\n",
    "print('Зашифрованное сообщение:',res)\n",
    "res=''\n",
    "message = input('Введите сообщение для расшифровки,используя верхний регистр:')\n",
    "for i in message:\n",
    "    res+=ALP[alp.find(i)]\n",
    "print('Расшифованное сообщение:',res)"
   ]
  },
  {
   "cell_type": "code",
   "execution_count": 4,
   "metadata": {},
   "outputs": [
    {
     "name": "stdout",
     "output_type": "stream",
     "text": [
      "Ключ1:2\n",
      "Ключ2:4\n",
      "Введите текст для зашифровки:kola 103\n",
      "Зашифрованное сообщение: mqnc 547\n",
      "Введите текст для расшифровки:2\n",
      "Расшифрованное сообщение: 0\n"
     ]
    }
   ],
   "source": [
    "#Двух алфавитный шифр Цезаря\n",
    "alp1 = \"\"\n",
    "for i in range(ord(\"a\"),ord(\"z\")+1): #Создаем алфавит букв 1\n",
    "    alp1+=chr(i)\n",
    "alp2 = \"\"\n",
    "for i in range(ord(\"a\"),ord(\"z\")+1): #Создаем алфaвит букв 2\n",
    "    alp2+=chr(i)\n",
    "for i in range(ord(\"0\"),ord(\"9\")+1): #Создаем алфaвит\n",
    "    alp1+=chr(i)\n",
    "for i in range(ord(\"0\"),ord(\"9\")+1): #Создаем алфaвит\n",
    "    alp2+=chr(i)    \n",
    "key1 = int(input(\"Ключ1:\")) \n",
    "key2 = int(input(\"Ключ2:\"))\n",
    "c = 0 \n",
    "res = \"\"\n",
    "message = (input(\"Введите текст для зашифровки:\"))\n",
    "for i in message:\n",
    "    if i ==\" \":\n",
    "        res += \" \"\n",
    "        c += 1\n",
    "    if(c%2 == 0) and (i != \" \"):\n",
    "        res += alp1[(alp1.index(i) + key1) % len(alp1)]\n",
    "    elif (i != \" \"):\n",
    "        res += alp2[(alp2.index(i) + key2) % len(alp2)]\n",
    "print(\"Зашифрованное сообщение:\",res)\n",
    "c = 0 \n",
    "res = \"\"\n",
    "message = input(\"Введите текст для расшифровки:\")\n",
    "for i in message:\n",
    "    if i ==\" \":\n",
    "        res += \" \"\n",
    "        c += 1\n",
    "    if(c%2 == 0) and (i != \" \"):\n",
    "        res += alp1[(alp1.index(i) - key1) % len(alp1)]\n",
    "    elif (i != \" \"):\n",
    "        res += alp2[(alp2.index(i) - key2) % len(alp2)]\n",
    "print(\"Расшифрованное сообщение:\",res)\n"
   ]
  },
  {
   "cell_type": "code",
   "execution_count": 1,
   "metadata": {},
   "outputs": [
    {
     "name": "stdout",
     "output_type": "stream",
     "text": [
      "Введите текст:ATTACKATDAWN\n",
      "Введите кодовое слово:LEMON\n",
      "Зашифрованное сообщение: LXFOPVEFRNHR\n"
     ]
    }
   ],
   "source": [
    "#Шифр Виженера\n",
    "abc = \"\"\n",
    "for i in range(ord(\"A\"),ord(\"Z\")+1): #Создаем алфавит \n",
    "    abc+=chr(i)\n",
    "text = input(\"Введите текст:\")\n",
    "key = input(\"Введите кодовое слово:\")\n",
    "key*=len(text)//len(key)+1      #подгоняем длину ключа,под длину текста\n",
    "res=''\n",
    "for i,j in enumerate(text):\n",
    "    s=(ord(j)+ord(key[i]))    #суммируем значения букв: текст и кодовое слово \n",
    "    res+=chr(s%26+ord(\"A\")) #преобразовываем числа в буквы\n",
    "print(\"Зашифрованное сообщение:\",res)\n",
    "\n",
    "\n"
   ]
  }
 ],
 "metadata": {
  "kernelspec": {
   "display_name": "Python 3",
   "language": "python",
   "name": "python3"
  },
  "language_info": {
   "codemirror_mode": {
    "name": "ipython",
    "version": 3
   },
   "file_extension": ".py",
   "mimetype": "text/x-python",
   "name": "python",
   "nbconvert_exporter": "python",
   "pygments_lexer": "ipython3",
   "version": "3.7.3"
  }
 },
 "nbformat": 4,
 "nbformat_minor": 2
}
