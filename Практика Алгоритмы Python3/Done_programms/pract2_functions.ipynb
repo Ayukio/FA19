{
 "cells": [
  {
   "cell_type": "code",
   "execution_count": 8,
   "metadata": {},
   "outputs": [
    {
     "name": "stdout",
     "output_type": "stream",
     "text": [
      "x=:2\n",
      "y= -1.6621922041049255\n"
     ]
    }
   ],
   "source": [
    "#Задача1\n",
    "import math \n",
    "try:\n",
    "    x=float(input(\"x=:\",))\n",
    "    if x<=0 or ((1-math.log(x))<0) or x>2:\n",
    "        print(\"Не подходит по ОДЗ\")\n",
    "    else:\n",
    "        y=x**3/((x+1)*(x+2)) + (math.asin(1-x))/pow((1-math.log(x)),1/3)\n",
    "        print(\"y=\",y)\n",
    "except:\n",
    "    print(\"Введите только число\")\n",
    "    "
   ]
  },
  {
   "cell_type": "code",
   "execution_count": 50,
   "metadata": {},
   "outputs": [
    {
     "name": "stdout",
     "output_type": "stream",
     "text": [
      "d:10\n",
      "c:5\n",
      "x:-3\n",
      "y:1\n",
      "Не принадлежат графику\n"
     ]
    }
   ],
   "source": [
    "#Задача2 графические функции\n",
    "d=float(input(\"d:\")) \n",
    "c=float(input(\"c:\"))\n",
    "x=float(input(\"x:\")) \n",
    "y=float(input(\"y:\"))\n",
    "if (x<=-d and y == c/2):\n",
    "    print(\"x и y принадлежат 1 отрезку\")\n",
    "elif (-d<x<=0) and(c/d*-x==y):\n",
    "    print(\"x и y принадлежат 2 отрезку\")\n",
    "elif (0<x<=d) and (c/d*x==y):\n",
    "    print(\"x и y принадлежат 3 отрезку\")\n",
    "elif (x>d and y == c):\n",
    "    print(\"x и y принадлежат 4 отрезку\")\n",
    "else:\n",
    "    print(\"Не принадлежат графику\")\n",
    "\n",
    "    "
   ]
  },
  {
   "cell_type": "code",
   "execution_count": 34,
   "metadata": {},
   "outputs": [
    {
     "name": "stdout",
     "output_type": "stream",
     "text": [
      "y = 0.16666666666666666 \n",
      "x = 1\n",
      "y = 0.10088644614202603 \n",
      "x = 1.1\n",
      "y = 0.030122895277772482 \n",
      "x = 1.2\n",
      "y = -0.04776122768420826 \n",
      "x = 1.3\n",
      "y = -0.13553633444909413 \n",
      "x = 1.4\n",
      "y = -0.23697707429877296 \n",
      "x = 1.5\n",
      "y = -0.3575601369304708 \n",
      "x = 1.6\n",
      "y = -0.5059513374660034 \n",
      "x = 1.7\n",
      "y = -0.6978585608842705 \n",
      "x = 1.8\n",
      "y = -0.9703405038600942 \n",
      "x = 1.9\n",
      "y = -1.6621922041049255 \n",
      "x = 2.0\n"
     ]
    }
   ],
   "source": [
    "#Задача3\n",
    "import math\n",
    "x=1\n",
    "while x<=2:\n",
    "    y=x**3/((x+1)*(x+2)) + (math.asin(1-x))/pow((1-math.log(x)),1/3)\n",
    "    x=round(x,1)\n",
    "    print(\"y =\",y,\"\\nx =\",x)\n",
    "    x+=0.1"
   ]
  },
  {
   "cell_type": "code",
   "execution_count": null,
   "metadata": {},
   "outputs": [],
   "source": []
  }
 ],
 "metadata": {
  "kernelspec": {
   "display_name": "Python 3",
   "language": "python",
   "name": "python3"
  },
  "language_info": {
   "codemirror_mode": {
    "name": "ipython",
    "version": 3
   },
   "file_extension": ".py",
   "mimetype": "text/x-python",
   "name": "python",
   "nbconvert_exporter": "python",
   "pygments_lexer": "ipython3",
   "version": "3.7.3"
  }
 },
 "nbformat": 4,
 "nbformat_minor": 2
}
