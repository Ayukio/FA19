{
 "cells": [
  {
   "cell_type": "markdown",
   "metadata": {},
   "source": [
    "###### Задача2 - функции и работа с файлами (3 Exception)\n",
    "Реализовать создание, запись, чтение и удаление файла с данными о пользователе."
   ]
  },
  {
   "cell_type": "code",
   "execution_count": 33,
   "metadata": {},
   "outputs": [
    {
     "name": "stdout",
     "output_type": "stream",
     "text": [
      "1 - create a file\n",
      "2 - add a text in file\n",
      "3 - read a file\n",
      "4 - remove a file\n",
      "0 - exit\n",
      "\n",
      "Make a choice between 0-4 types: 3\n",
      "Filename: 1\n",
      "No such file or directory\n"
     ]
    }
   ],
   "source": [
    "# \\\\ FileNotFoundError \\\\ OSError \\\\ NameError\n",
    "import os\n",
    "\n",
    "print(\"1 - create a file\")\n",
    "print(\"2 - add a text in file\")\n",
    "print(\"3 - read a file\")\n",
    "print(\"4 - remove a file\")\n",
    "print(\"0 - exit\\n\")\n",
    "oper = \"\"\n",
    "\n",
    "oper = input(\"Make a choice between 0-4 types: \")\n",
    "    \n",
    "if oper == \"1\":\n",
    "    filename = input(\"Enter name of your file: \")\n",
    "    my_file = open(filename, mode = \"w\")\n",
    "    print(\"File with name \" + filename + \" has been created\")\n",
    "    my_file.close()\n",
    "elif oper == \"2\":\n",
    "    filename = input(\"Filename: \")\n",
    "    text = input(\"Text: \")\n",
    "    my_file = open(filename, \"a\")\n",
    "    my_file.write(text)\n",
    "    my_file.close()\n",
    "elif oper == \"3\":\n",
    "    filename = input(\"Filename: \")\n",
    "    try:\n",
    "        my_file = open(filename, \"r\")\n",
    "        print(\"Text from file:\\n\")\n",
    "        print(my_file.read())\n",
    "        my_file.close()\n",
    "    except FileNotFoundError:\n",
    "        print(\"No such file or directory\")\n",
    "\n",
    "elif oper == \"4\":\n",
    "    filename = input(\"Filename: \")\n",
    "    try:\n",
    "        os.remove(filename)\n",
    "        print(\"File has been deleted\")\n",
    "    except (OSError, NameError):\n",
    "        print(\"File doesn't exist\")\n",
    "            \n",
    "else:\n",
    "    print(\"Enter 0-4 types\")\n"
   ]
  },
  {
   "cell_type": "markdown",
   "metadata": {},
   "source": [
    "###### Задача4 - списки (1 Exception)\n",
    "Список задается пользователем с клавиатуры. Определите, является ли список симметричным"
   ]
  },
  {
   "cell_type": "code",
   "execution_count": 6,
   "metadata": {},
   "outputs": [
    {
     "name": "stdout",
     "output_type": "stream",
     "text": [
      "Ряд цифр: 1 2\n",
      "Не симметричен\n"
     ]
    }
   ],
   "source": [
    "# \\\\ ValueError\n",
    "k = 0\n",
    "while k == 0:\n",
    "    try:\n",
    "        a = [int(i) for i in input(\"Ряд цифр: \").split()]\n",
    "        k = 1\n",
    "    except(ValueError):\n",
    "        print(\"Введите цифры!\")\n",
    "b=a.copy()\n",
    "b.reverse()\n",
    "if a==b:\n",
    "    print(\"Список симметричен\")\n",
    "else:\n",
    "    print(\"Не симметричен\")"
   ]
  },
  {
   "cell_type": "markdown",
   "metadata": {},
   "source": [
    "###### Калькулятор (2 Exception)\n",
    "Квадратные уравнения"
   ]
  },
  {
   "cell_type": "code",
   "execution_count": 15,
   "metadata": {},
   "outputs": [
    {
     "name": "stdout",
     "output_type": "stream",
     "text": [
      "A: 1\n",
      "B: 0\n",
      "C: 0\n",
      "\n",
      "D = 0.0\n",
      "Ответ:\n",
      "x1 = -0.0\n"
     ]
    }
   ],
   "source": [
    "# \\\\ ZeroDivisionError \\\\ TypeError\n",
    "import math\n",
    "a = float(input(\"A: \"))\n",
    "b = float(input(\"B: \"))\n",
    "c = float(input(\"C: \"))\n",
    "D = b ** 2 - 4 * a * c\n",
    "\n",
    "if D == 0:\n",
    "    try:\n",
    "        x1 = -b/(2*a)\n",
    "        print(\"\\nD =\",D)\n",
    "        print(\"Ответ:\")\n",
    "        print(\"x1 =\",x1)\n",
    "    except(ZeroDivisionError):\n",
    "        print(\"Только не ноль\")\n",
    "elif D > 0:\n",
    "    try:\n",
    "        x1 = (-b + math.sqrt(D)) / (2 * a)\n",
    "        x2 = (-b - math.sqrt(D)) / (2 * a)\n",
    "        print(\"\\nD =\",D)\n",
    "        print(\"Ответ:\")\n",
    "        print(\"Корень x1 =\",x1)\n",
    "        print(\"Корень x2 =\",x2)\n",
    "        try:\n",
    "            print(\"Сумма корней: \", x1 + str(x2))\n",
    "        except(TypeError):\n",
    "            print(\"Зачем ты складываешь со строкой?\")\n",
    "    except(ZeroDivisionError):\n",
    "        print(\"Только не ноль\")\n",
    "    \n",
    "else:\n",
    "    print(\"Нет решения, D < 0\")"
   ]
  },
  {
   "cell_type": "markdown",
   "metadata": {},
   "source": [
    "###### Задача1 - словари 2 Exception\n",
    "Создать словарь адрессной книги, содержащий ФИО и адрес. Заполнить его 50 элементами. Реализовать поиск по фамилии."
   ]
  },
  {
   "cell_type": "code",
   "execution_count": 2,
   "metadata": {},
   "outputs": [
    {
     "name": "stdout",
     "output_type": "stream",
     "text": [
      "Введите фамилию: Баранов\n",
      "AttributeError - не знаю зачем но ладно\n",
      "Данные: Баранов Александр Вячеславович адрес2\n"
     ]
    }
   ],
   "source": [
    "# \\\\ KeyError \\\\ AttributeError\n",
    "d = {\"Александрова\": \"Александрова Дарья Игоревна адрес1\", \"Баранов\": \"Баранов Александр Вячеславович адрес2\", \n",
    "     \"Брусова\": \"Брусова П.И. адрес3\", \"Волкова\": \"Волкова К.В. адрес4\", \"Гасанова\": \"Гасанова Р.Г. адрес5\", \n",
    "     \"Данилин\": \"Данилин А.А. адрес6\", \"Егоров\": \"Егоров Н.А. адрес7\", \"Зелянина\": \"Зелянина А.Г. адрес8\", \n",
    "     \"Капралов\": \"Капралов Н.Е. адрес9\", \"Ковалев\": \"Ковалев А.И. адрес10\", \"Костюченко\": \"Костюченко И.В. адрес11\", \n",
    "     \"Кузин\": \"Кузин В.Г. адрес12\", \"Лихачев\": \"Лихачев М.И. адрес13\", \"Маринин\": \"Маринин Р.Г. адрес14\", \n",
    "     \"Мерзляков\": \"Мерзляков Д.А. адрес15\", \"Омаров\": \"Омаров И.Д. адрес16\", \"Поликарпова\": \n",
    "     \"Поликарпова Е.И. адрес17\", \"Попова\": \"Попова С.А. адрес18\", \"Саакян\": \"Саакян Д.А. адрес19\", \n",
    "     \"Соколова\": \"Соколова А.В. адрес20\", \"Телицын\": \"Телицын Е.А адрес21\", \"Устимова\": \"Устимова С.С. адрес22\",\n",
    "     \"Хамикоева\": \"Хамикоева О.Р. адрес23\", \"Шин\": \"Шин А.Е. адрес24\", \n",
    "     \"Кучерявенко\": \"Кучерявенко Никита адрес25\"\n",
    "    }\n",
    "fam = input(\"Введите фамилию: \").title()\n",
    "try:\n",
    "    fam.attr = 10\n",
    "except AttributeError:\n",
    "    print(\"AttributeError - не знаю зачем но ладно\")\n",
    "for i in d:\n",
    "    if fam in d:\n",
    "        print(\"Данные:\", d[fam])\n",
    "        break\n",
    "    else:\n",
    "        try:\n",
    "            print(d[fam])\n",
    "        except(KeyError):\n",
    "            print(\"Фамилии нет\")\n",
    "            break      "
   ]
  },
  {
   "cell_type": "code",
   "execution_count": null,
   "metadata": {},
   "outputs": [],
   "source": []
  }
 ],
 "metadata": {
  "kernelspec": {
   "display_name": "Python 3",
   "language": "python",
   "name": "python3"
  },
  "language_info": {
   "codemirror_mode": {
    "name": "ipython",
    "version": 3
   },
   "file_extension": ".py",
   "mimetype": "text/x-python",
   "name": "python",
   "nbconvert_exporter": "python",
   "pygments_lexer": "ipython3",
   "version": "3.7.3"
  }
 },
 "nbformat": 4,
 "nbformat_minor": 2
}
