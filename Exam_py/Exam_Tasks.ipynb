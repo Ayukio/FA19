{
 "cells": [
  {
   "cell_type": "markdown",
   "metadata": {},
   "source": [
    "## Task1\n",
    "\n",
    "- Task1.1✅(20 баллов)\n",
    "- Task1.2✅(10 баллов)\n",
    "- Task1.3✅(10 баллов)\n",
    "\n",
    "> (20 баллов)\n",
    "\n",
    "Имеется список кортежей вида (товар, цена). Например, [(″ручка″, 25),\n",
    "(″фломастеры″, 350), (″альбом″, 350)].\n",
    "Создайте функцию, которая для такого списка находит самый дорогой товар. Если\n",
    "таких товаров несколько, то все. Список является параметром, функция\n",
    "возвращает список товаров и их цену."
   ]
  },
  {
   "cell_type": "code",
   "execution_count": 87,
   "metadata": {},
   "outputs": [
    {
     "data": {
      "text/plain": [
       "['фломастеры', 350, 'альбом', 350]"
      ]
     },
     "execution_count": 87,
     "metadata": {},
     "output_type": "execute_result"
    }
   ],
   "source": [
    "def goods_finder(listt):\n",
    "    global max_good\n",
    "    max_good = 0\n",
    "    listt_goods = []\n",
    "    for i in range(len(listt)):\n",
    "        if listt[i][1] >= max_good:\n",
    "            max_good = listt[i][1]\n",
    "\n",
    "    for i in range(len(listt)):\n",
    "        if max_good in listt[i]:\n",
    "            listt_goods.append(listt[i][0])\n",
    "            listt_goods.append(listt[i][1]) \n",
    "    \n",
    "    return listt_goods\n",
    "\n",
    "listt = [(\"ручка\", 25), (\"фломастеры\", 350), (\"альбом\", 350), (\"карандаш\", 10)]\n",
    "goods_finder(listt)"
   ]
  },
  {
   "cell_type": "markdown",
   "metadata": {},
   "source": [
    ">(10 баллов)\n",
    "\n",
    "Создайте с помощью присваивания список указанного вида. Вызовите\n",
    "созданную функцию. Выведите на экран названия товаров и их цену в виде\n",
    "строки «фломастеры, альбом – самые дорогие товары, цена – 350 руб.»"
   ]
  },
  {
   "cell_type": "code",
   "execution_count": 88,
   "metadata": {
    "scrolled": true
   },
   "outputs": [
    {
     "name": "stdout",
     "output_type": "stream",
     "text": [
      "фломастеры, альбом – самые дорогие товары, цена – 350 руб.\n"
     ]
    }
   ],
   "source": [
    "listt_2 = \"\"\n",
    "for i in range(len(listt)):\n",
    "    if max_good in listt[i]:\n",
    "        listt_2 += listt[i][0] + \", \"\n",
    "listt_2 = listt_2[:-2]\n",
    "print(listt_2, \"– самые дорогие товары, цена – \"+ str(max_good) + \" руб.\")"
   ]
  },
  {
   "cell_type": "markdown",
   "metadata": {},
   "source": [
    "> (10 баллов)\n",
    "\n",
    "Если исходный список пуст или параметр не является списком, то\n",
    "функция генерирует собственное исключение. Добавьте в программу обработку\n",
    "исключений (как собственного, так и стандартных)."
   ]
  },
  {
   "cell_type": "code",
   "execution_count": 89,
   "metadata": {},
   "outputs": [
    {
     "name": "stdout",
     "output_type": "stream",
     "text": [
      "фломастеры, альбом, карандаш, – самые дорогие товары, цена – 350 руб.\n"
     ]
    }
   ],
   "source": [
    "def goods_finder(listt):\n",
    "    global max_good\n",
    "    max_good = 0\n",
    "    listt_goods = []\n",
    "    for i in range(len(listt)):\n",
    "        if listt[i][1] >= max_good:\n",
    "            max_good = listt[i][1]\n",
    "\n",
    "    for i in range(len(listt)):\n",
    "        if max_good in listt[i]:\n",
    "            listt_goods.append(listt[i][0])\n",
    "            listt_goods.append(listt[i][1]) \n",
    "    \n",
    "    return listt_goods\n",
    "    \n",
    "# Выбор типа списка\n",
    "listt = [(\"ручка\", 25), (\"фломастеры\", 350), (\"альбом\", 350), (\"карандаш\", 350)]\n",
    "#listt = []\n",
    "#listt = \"\"\n",
    "\n",
    "goods_finder(listt)\n",
    "listt_2 = \"\"\n",
    "for i in range(len(listt)):\n",
    "    if max_good in listt[i]:\n",
    "        listt_2 += listt[i][0] + \", \"\n",
    "\n",
    "listt_2 = listt_2[:-1]\n",
    "try:\n",
    "    if listt == [] or type(listt) != list:\n",
    "        raise ValueError(\"Некорректные данные\", \"Список пуст или параметр не является списком\")\n",
    "    else:\n",
    "        print(listt_2, \"– самые дорогие товары, цена – \"+ str(max_good) + \" руб.\")\n",
    "except ValueError as e:\n",
    "    print(\"Ошибка ValueError:\", e)\n",
    "    \n",
    "except Exception as e:\n",
    "    print(\"Непредвиденная ошибка:\", e)          "
   ]
  },
  {
   "cell_type": "markdown",
   "metadata": {},
   "source": [
    "## Task2\n",
    "- Task2.1✅(20 баллов)\n",
    "- Task2.2❌(10 баллов)\n",
    "- Task2.3❌(10 баллов)\n",
    "\n",
    "> (20 баллов)\n",
    "\n",
    "Строка представляет собой дату в формате день.месяц.год, например,\n",
    "«17.5.21», «18.06.56», «2.12.99». Напишите функцию, которая определяет время\n",
    "года, соответствующее этой дате. Проверьте, что день находится в диапазоне от 1\n",
    "до 31, месяц – от 1 до 12. Функция возвращает название времени года. В случае\n",
    "ошибки возвращает «Ошибка в дате»."
   ]
  },
  {
   "cell_type": "code",
   "execution_count": 90,
   "metadata": {},
   "outputs": [
    {
     "data": {
      "text/plain": [
       "'Время года: Зима'"
      ]
     },
     "execution_count": 90,
     "metadata": {},
     "output_type": "execute_result"
    }
   ],
   "source": [
    "def date_DMY(strr):\n",
    "    day, month, year = strr.split(\".\")\n",
    "    day = int(day)\n",
    "    month = int(month)\n",
    "\n",
    "    if 1 <= day <= 31 and 1 <= month <= 12:\n",
    "        if month == 1 or month == 2 or month == 12:\n",
    "            return \"Время года: Зима\"\n",
    "        elif month == 3 or month == 4 or month == 5:\n",
    "            return \"Время года: Весна\"\n",
    "        elif month == 6 or month == 7 or month == 8:\n",
    "            return \"Время года: Лето\"\n",
    "        elif month == 9 or month == 10 or month == 11:\n",
    "            return \"Время года: Осень\"\n",
    "        \n",
    "    return \"Ошибка в дате\"\n",
    "    \n",
    "    \n",
    "strr = \"2.12.99\"\n",
    "date_DMY(strr)"
   ]
  },
  {
   "cell_type": "markdown",
   "metadata": {},
   "source": [
    "> (10 баллов)\n",
    "_Не сделано_\n",
    "\n",
    "Создайте с помощью присваивания строку вида «17.15.21, 18.06.56,\n",
    "2.12.99». Используя созданную функцию, вычислите сколько дат приходятся на\n",
    "каждое время года. Выведите полученную информацию в виде таблицы с\n",
    "заголовками: время года, количество."
   ]
  },
  {
   "cell_type": "code",
   "execution_count": 91,
   "metadata": {},
   "outputs": [
    {
     "ename": "ValueError",
     "evalue": "too many values to unpack (expected 3)",
     "output_type": "error",
     "traceback": [
      "\u001b[1;31m---------------------------------------------------------------------------\u001b[0m",
      "\u001b[1;31mValueError\u001b[0m                                Traceback (most recent call last)",
      "\u001b[1;32m<ipython-input-91-61db519291a1>\u001b[0m in \u001b[0;36m<module>\u001b[1;34m\u001b[0m\n\u001b[0;32m     22\u001b[0m \u001b[0mk_l\u001b[0m \u001b[1;33m=\u001b[0m \u001b[1;36m0\u001b[0m\u001b[1;33m\u001b[0m\u001b[1;33m\u001b[0m\u001b[0m\n\u001b[0;32m     23\u001b[0m \u001b[0mk_o\u001b[0m \u001b[1;33m=\u001b[0m \u001b[1;36m0\u001b[0m\u001b[1;33m\u001b[0m\u001b[1;33m\u001b[0m\u001b[0m\n\u001b[1;32m---> 24\u001b[1;33m \u001b[0mdate_DMY\u001b[0m\u001b[1;33m(\u001b[0m\u001b[0mstrr\u001b[0m\u001b[1;33m)\u001b[0m\u001b[1;33m\u001b[0m\u001b[1;33m\u001b[0m\u001b[0m\n\u001b[0m",
      "\u001b[1;32m<ipython-input-91-61db519291a1>\u001b[0m in \u001b[0;36mdate_DMY\u001b[1;34m(strr)\u001b[0m\n\u001b[0;32m      1\u001b[0m \u001b[1;32mdef\u001b[0m \u001b[0mdate_DMY\u001b[0m\u001b[1;33m(\u001b[0m\u001b[0mstrr\u001b[0m\u001b[1;33m)\u001b[0m\u001b[1;33m:\u001b[0m\u001b[1;33m\u001b[0m\u001b[1;33m\u001b[0m\u001b[0m\n\u001b[1;32m----> 2\u001b[1;33m     \u001b[0mday\u001b[0m\u001b[1;33m,\u001b[0m \u001b[0mmonth\u001b[0m\u001b[1;33m,\u001b[0m \u001b[0myear\u001b[0m \u001b[1;33m=\u001b[0m \u001b[0mstrr\u001b[0m\u001b[1;33m.\u001b[0m\u001b[0msplit\u001b[0m\u001b[1;33m(\u001b[0m\u001b[1;34m\".\"\u001b[0m\u001b[1;33m)\u001b[0m\u001b[1;33m\u001b[0m\u001b[1;33m\u001b[0m\u001b[0m\n\u001b[0m\u001b[0;32m      3\u001b[0m     \u001b[0mday\u001b[0m \u001b[1;33m=\u001b[0m \u001b[0mint\u001b[0m\u001b[1;33m(\u001b[0m\u001b[0mday\u001b[0m\u001b[1;33m)\u001b[0m\u001b[1;33m\u001b[0m\u001b[1;33m\u001b[0m\u001b[0m\n\u001b[0;32m      4\u001b[0m     \u001b[0mmonth\u001b[0m \u001b[1;33m=\u001b[0m \u001b[0mint\u001b[0m\u001b[1;33m(\u001b[0m\u001b[0mmonth\u001b[0m\u001b[1;33m)\u001b[0m\u001b[1;33m\u001b[0m\u001b[1;33m\u001b[0m\u001b[0m\n\u001b[0;32m      5\u001b[0m \u001b[1;33m\u001b[0m\u001b[0m\n",
      "\u001b[1;31mValueError\u001b[0m: too many values to unpack (expected 3)"
     ]
    }
   ],
   "source": [
    "def date_DMY(strr):\n",
    "    day, month, year = strr.split(\".\")\n",
    "    day = int(day)\n",
    "    month = int(month)\n",
    "\n",
    "    if 1 <= day <= 31 and 1 <= month <= 12:\n",
    "        if month == 1 or month == 2 or month == 12:\n",
    "            return \"Время года: Зима\"\n",
    "        elif month == 3 or month == 4 or month == 5:\n",
    "            return \"Время года: Весна\"\n",
    "        elif month == 6 or month == 7 or month == 8:\n",
    "            return \"Время года: Лето\"\n",
    "        elif month == 9 or month == 10 or month == 11:\n",
    "            return \"Время года: Осень\"\n",
    "        \n",
    "    return \"Ошибка в дате\"\n",
    "        \n",
    "        \n",
    "strr = \"17.15.21, 18.06.56, 2.12.99\"\n",
    "k_z = 0 \n",
    "k_v = 0\n",
    "k_l = 0 \n",
    "k_o = 0\n",
    "date_DMY(strr)\n"
   ]
  },
  {
   "cell_type": "code",
   "execution_count": 92,
   "metadata": {},
   "outputs": [
    {
     "name": "stdout",
     "output_type": "stream",
     "text": [
      "['17.15.21', ' 18.06.56', ' 2.12.99']\n",
      "\n",
      "17.15.21\n",
      "18.06.56\n",
      "2.12.99\n"
     ]
    }
   ],
   "source": [
    "strr = \"17.15.21, 18.06.56, 2.12.99\"\n",
    "new_strr = strr.split(\",\")\n",
    "print(new_strr)\n",
    "print(\"\")\n",
    "\n",
    "for i in range(len(new_strr)):\n",
    "    new_strr[i] = new_strr[i].strip()\n",
    "    print(new_strr[i])"
   ]
  },
  {
   "cell_type": "markdown",
   "metadata": {},
   "source": [
    "##### (10 баллов) \n",
    "Если параметр функции не является строкой, то функция генерирует\n",
    "собственное исключение. Добавьте в программу обработку исключений (как\n",
    "собственного, так и стандартных)."
   ]
  },
  {
   "cell_type": "markdown",
   "metadata": {},
   "source": [
    "## Task3\n",
    "- Task3.1✅(20 баллов)\n",
    "- Task3.2✅(10 баллов)\n",
    "- Task3.3✅(10 баллов)\n",
    "\n",
    "> (20 баллов)\n",
    "\n",
    "Имеется строка, состоящая из целых чисел, перечисленных через\n",
    "запятую. Напишите функцию, которая вычисляет количество положительных и\n",
    "отрицательных чисел в этой строке. Строка является параметром функции.\n",
    "Функция возвращает кортеж из 2 вычисленных значений."
   ]
  },
  {
   "cell_type": "code",
   "execution_count": 166,
   "metadata": {},
   "outputs": [
    {
     "name": "stdout",
     "output_type": "stream",
     "text": [
      "(2, 3)\n"
     ]
    }
   ],
   "source": [
    "def digits(my_str):\n",
    "    k = 0 \n",
    "    c = 0\n",
    "    my_list = my_str.split(\",\")\n",
    "    for i in range(len(my_list)):\n",
    "        if int(my_list[i]) > 0:\n",
    "            k += 1\n",
    "        elif int(my_list[i]) < 0:\n",
    "            c += 1\n",
    "    \n",
    "    return (k, c)\n",
    "    \n",
    "    \n",
    "my_str = \"-1, 2, -3, 4, -12, 0\"\n",
    "print(digits(my_str))"
   ]
  },
  {
   "cell_type": "markdown",
   "metadata": {},
   "source": [
    "##### (10 баллов)\n",
    "Выведите на экран отрицательные числа исходной строки в порядке\n",
    "возрастания через запятую в одной строке."
   ]
  },
  {
   "cell_type": "code",
   "execution_count": 93,
   "metadata": {},
   "outputs": [
    {
     "name": "stdout",
     "output_type": "stream",
     "text": [
      "Строка порядке возрастания: -1, -3\n"
     ]
    }
   ],
   "source": [
    "my_str = \"-1, 2, -3, 4, 12\"\n",
    "my_list = my_str.split(\",\")\n",
    "l = []\n",
    "for i in range(len(my_list)):\n",
    "    my_list[i] = my_list[i].strip()\n",
    "\n",
    "for i in range(len(my_list)):\n",
    "    if int(my_list[i]) < 0:\n",
    "        l.append(my_list[i])\n",
    "\n",
    "l.sort()\n",
    "out = \"\"\n",
    "for i in range(len(l)):\n",
    "    out += l[i] + \", \"\n",
    "print(\"Строка порядке возрастания:\", out[:-2])"
   ]
  },
  {
   "cell_type": "markdown",
   "metadata": {},
   "source": [
    "##### (10 баллов)\n",
    "Если параметр функции не является строкой, то функция генерирует\n",
    "собственное исключение. Добавьте в программу обработку исключений (как\n",
    "собственного, так и стандартных)."
   ]
  },
  {
   "cell_type": "code",
   "execution_count": 96,
   "metadata": {},
   "outputs": [
    {
     "name": "stdout",
     "output_type": "stream",
     "text": [
      "<class 'dict'>\n",
      "Ошибка TypeError: ('Некорректные данные', 'Параметр не является строкой')\n"
     ]
    }
   ],
   "source": [
    "def digits(my_str):\n",
    "    k = 0 \n",
    "    c = 0\n",
    "    my_list = my_str.split(\",\")\n",
    "    for i in range(len(my_list)):\n",
    "        if int(my_list[i]) > 0:\n",
    "            k += 1\n",
    "        elif int(my_list[i]) < 0:\n",
    "            c += 1\n",
    "    \n",
    "    return (k, c)\n",
    "    \n",
    "# выбор типа строки    \n",
    "#my_str = \"-1, 2, -3, 4, -12, 0\"\n",
    "my_str = {}\n",
    "\n",
    "try:\n",
    "    if type(my_str) != str:\n",
    "        print(type(my_str))\n",
    "        raise TypeError(\"Некорректные данные\", \"Параметр не является строкой\")\n",
    "    else:\n",
    "        print(digits(my_str))\n",
    "except TypeError as e:\n",
    "    print(\"Ошибка TypeError:\", e)\n",
    "\n",
    "except Exception as e:\n",
    "    print(\"Непредвиденная ошибка:\", e)\n"
   ]
  },
  {
   "cell_type": "markdown",
   "metadata": {},
   "source": [
    "## Task4\n",
    "- Task4.1✅(20 баллов)\n",
    "- Task4.2✅(10 баллов)\n",
    "- Task4.3✅(10 баллов)\n",
    "\n",
    "> (20 баллов)\n",
    "\n",
    "Имеется список строк вида «товар: количество» (товар может\n",
    "повторяться), например, [“ручки: 5”, “тетради: 30”, “ручки: 10”]. Напишите\n",
    "функцию, которая для этого списка вычисляет общее количество каждого товара.\n",
    "Функция возвращает словарь вида {“ручки”: 15, “тетради”: 30}."
   ]
  },
  {
   "cell_type": "code",
   "execution_count": 97,
   "metadata": {},
   "outputs": [
    {
     "name": "stdout",
     "output_type": "stream",
     "text": [
      "{'ручки': 15, 'тетради': 30}\n"
     ]
    }
   ],
   "source": [
    "def goods_find(my_list4):\n",
    "    for i in my_list4:\n",
    "        key, count = i.split(\" \") # Крутая тема!\n",
    "        count = int(count)\n",
    "        key = key[:len(key)-1]\n",
    "        if key not in d:\n",
    "            d[key] = count\n",
    "        else:\n",
    "            d[key] += count\n",
    "        \n",
    "    return d\n",
    "d = {}\n",
    "my_list4 = [\"ручки: 5\", \"тетради: 30\", \"ручки: 10\"]\n",
    "print(goods_find(my_list4))"
   ]
  },
  {
   "cell_type": "markdown",
   "metadata": {},
   "source": [
    ">(10 баллов) \n",
    "\n",
    "Создайте с помощью присваивания список указанного вида. Вызовите\n",
    "созданную функцию. Выведите на экран результат в виде таблицы из 2 столбцов:\n",
    "товар, количество. Выведите количество различных товаров в исходном списке."
   ]
  },
  {
   "cell_type": "code",
   "execution_count": 98,
   "metadata": {},
   "outputs": [
    {
     "name": "stdout",
     "output_type": "stream",
     "text": [
      "Товар         Кол-во         \n",
      "ручки           15             \n",
      "тетради         30             \n",
      "карандаши       29             \n",
      "\n",
      "Количество различных товаров: 3\n"
     ]
    }
   ],
   "source": [
    "def goods_find(my_list4):\n",
    "    for i in my_list4:\n",
    "        key, count = i.split(\" \") # Крутая тема!\n",
    "        count = int(count)\n",
    "        key = key[:len(key)-1]\n",
    "        if key not in d:\n",
    "            d[key] = count\n",
    "        else:\n",
    "            d[key] += count\n",
    "        \n",
    "    return d\n",
    "\n",
    "my_list4 = [\"ручки: 5\", \"тетради: 30\", \"ручки: 10\", \"карандаши: 12\", \"карандаши: 17\"]\n",
    "d = {}\n",
    "goods_find(my_list4)\n",
    "print(\"{:<13} {:<15}\".format(\"Товар\", \"Кол-во\"))\n",
    "for i in d.items():\n",
    "    name, val = i\n",
    "    print(\"{:<15} {:<15}\".format(name, val))\n",
    "print(\"\\nКоличество различных товаров:\", len(d))"
   ]
  },
  {
   "cell_type": "markdown",
   "metadata": {},
   "source": [
    ">(10 баллов) \n",
    "\n",
    "Если исходный список пуст или параметр не является списком, то\n",
    "функция генерирует собственное исключение. Добавьте в программу обработку\n",
    "исключений (как собственного, так и стандартных)."
   ]
  },
  {
   "cell_type": "code",
   "execution_count": 99,
   "metadata": {},
   "outputs": [
    {
     "name": "stdout",
     "output_type": "stream",
     "text": [
      "Товар         Кол-во         \n",
      "ручки           15             \n",
      "тетради         30             \n",
      "карандаши       29             \n",
      "\n",
      "Количество различных товаров: 3\n"
     ]
    }
   ],
   "source": [
    "def goods_find(my_list4):\n",
    "    for i in my_list4:\n",
    "        key, count = i.split(\" \") # Крутая тема!\n",
    "        count = int(count)\n",
    "        key = key[:len(key)-1]\n",
    "        if key not in d:\n",
    "            d[key] = count\n",
    "        else:\n",
    "            d[key] += count\n",
    "        \n",
    "    return d\n",
    "\n",
    "# Выбор типа строки\n",
    "my_list4 = [\"ручки: 5\", \"тетради: 30\", \"ручки: 10\", \"карандаши: 12\", \"карандаши: 17\"]\n",
    "#my_list4 = \"\"\n",
    "#my_list4 = []\n",
    "d = {}\n",
    "try:\n",
    "    if my_list4 == [] or type(my_list4) != list:\n",
    "        raise TypeError(\"Некорректные данные\", \"Список пуст или параметр не является списком\")\n",
    "    else:\n",
    "        goods_find(my_list4)\n",
    "        print(\"{:<13} {:<15}\".format(\"Товар\", \"Кол-во\"))\n",
    "        for i in d.items():\n",
    "            name, val = i\n",
    "            print(\"{:<15} {:<15}\".format(name, val))\n",
    "        print(\"\\nКоличество различных товаров:\", len(d))        \n",
    "\n",
    "except TypeError as e:\n",
    "    print(\"Ошибка TypeError:\", e)\n",
    "\n",
    "except Exception as e:\n",
    "    print(\"Непредвиденная ошибка:\", e)\n"
   ]
  },
  {
   "cell_type": "markdown",
   "metadata": {},
   "source": [
    "## Task5 \n",
    "\n",
    "Нет его"
   ]
  },
  {
   "cell_type": "markdown",
   "metadata": {},
   "source": [
    "## Task6\n",
    "- Task6.1✅(20 баллов)\n",
    "- Task6.2✅(10 баллов)\n",
    "- Task6.3✅❌(10 баллов)    \n",
    "\n",
    "Внимание ошибка в условии _Task6.3_ задачи!!!\n",
    "\n",
    "> (20 баллов)\n",
    "\n",
    "Строка представляет собой **список** оценок через запятую, например, «3, 4,\n",
    "5, 2». Количество оценок заранее неизвестно. Напишите функцию, которая\n",
    "преобразует эту строку к виду, где оценки указаны словами: «удовлетворительно,\n",
    "хорошо, отлично, неудовлетворительно». Проверьте, что оценка находится в\n",
    "диапазоне от 2 до 5. Недопустимая оценка заменяется словом «ошибка». Функция\n",
    "возвращает полученную строку."
   ]
  },
  {
   "cell_type": "code",
   "execution_count": 100,
   "metadata": {},
   "outputs": [
    {
     "name": "stdout",
     "output_type": "stream",
     "text": [
      "удовлетворительно, хорошо, отлично, неудовлетворительно, ошибка\n"
     ]
    }
   ],
   "source": [
    "def mark_translate(mark):\n",
    "    for i in mark:\n",
    "        i = int(i)\n",
    "        if 2 <= i <= 5:\n",
    "            if i == 2:\n",
    "                i = \"неудовлетворительно\" \n",
    "                mark_list.append(i)\n",
    "            elif i == 3:\n",
    "                i = \"удовлетворительно\"\n",
    "                mark_list.append(i)\n",
    "            elif i == 4:\n",
    "                i = \"хорошо\"\n",
    "                mark_list.append(i)\n",
    "            else:\n",
    "                i = \"отлично\"\n",
    "                mark_list.append(i)\n",
    "        else:\n",
    "            i = \"ошибка\"\n",
    "            mark_list.append(i)\n",
    "            \n",
    "    markk = \", \".join(mark_list)\n",
    "    return markk \n",
    "mark = [3, 4, 5, 2, 0]\n",
    "mark_list = []\n",
    "print(mark_translate(mark))"
   ]
  },
  {
   "cell_type": "markdown",
   "metadata": {},
   "source": [
    "> (10 баллов)\n",
    "\n",
    "Создайте с помощью присваивания **список** вида [«Иванов: 4, 4, 3»,\n",
    "«Петров: 2, 5»]. Используя созданную функцию, преобразуйте его к виду\n",
    "[«Иванов: хорошо, хорошо, удовлетворительно», «Петров: неудовлетворительно,\n",
    "отлично»]."
   ]
  },
  {
   "cell_type": "code",
   "execution_count": 101,
   "metadata": {},
   "outputs": [
    {
     "name": "stdout",
     "output_type": "stream",
     "text": [
      "['Иванов: хорошо, хорошо, удовлетворительно', 'Петров: неудовлетворительно, отлично']\n"
     ]
    }
   ],
   "source": [
    "def mark_translate(mark):\n",
    "    global str_mark\n",
    "    for i in mark:\n",
    "        i = int(i)\n",
    "        if 2 <= i <= 5:\n",
    "            if i == 2:\n",
    "                i = \"неудовлетворительно\" \n",
    "                mark_list.append(i)\n",
    "            elif i == 3:\n",
    "                i = \"удовлетворительно\"\n",
    "                mark_list.append(i)\n",
    "            elif i == 4:\n",
    "                i = \"хорошо\"\n",
    "                mark_list.append(i)\n",
    "            else:\n",
    "                i = \"отлично\"\n",
    "                mark_list.append(i)\n",
    "        else:\n",
    "            i = \"ошибка\"\n",
    "            mark_list.append(i)\n",
    "            \n",
    "    str_mark = \", \".join(mark_list)\n",
    "    return str_mark\n",
    "\n",
    "mark = [\"Иванов: 4, 4, 3\", \"Петров: 2, 5\"]\n",
    "str_mark = \"\"              # Оценки в нужном формате\n",
    "mark_list = []\n",
    "name_mark_list = []\n",
    "for i in mark:\n",
    "    name, marks = i.split(\": \") # Имя и оценки\n",
    "    marks = marks.split(\", \") # Оценки СПИСОК\n",
    "    mark_translate(marks) \n",
    "    mark_list = []\n",
    "    marks = \", \".join(marks)\n",
    "    name = name+\": \"+ str(str_mark)\n",
    "    name_mark_list.append(name)\n",
    "\n",
    "print(name_mark_list)"
   ]
  },
  {
   "cell_type": "markdown",
   "metadata": {},
   "source": [
    ">(10 баллов) \n",
    "\n",
    "_в задании ошибка_\n",
    "\n",
    "Если параметр функции не является **строкой**, то функция генерирует\n",
    "собственное исключение. Добавьте в программу обработку исключений (как\n",
    "собственного, так и стандартных).\n",
    "\n",
    "**Однако я сделаю, если параметр функции не является списком**"
   ]
  },
  {
   "cell_type": "code",
   "execution_count": 102,
   "metadata": {},
   "outputs": [
    {
     "name": "stdout",
     "output_type": "stream",
     "text": [
      "Ошибка TypeError: ('Некорректные данные', 'Параметр не является строкой')\n"
     ]
    }
   ],
   "source": [
    "def mark_translate(mark):\n",
    "    global str_mark\n",
    "    for i in mark:\n",
    "        i = int(i)\n",
    "        if 2 <= i <= 5:\n",
    "            if i == 2:\n",
    "                i = \"неудовлетворительно\" \n",
    "                mark_list.append(i)\n",
    "            elif i == 3:\n",
    "                i = \"удовлетворительно\"\n",
    "                mark_list.append(i)\n",
    "            elif i == 4:\n",
    "                i = \"хорошо\"\n",
    "                mark_list.append(i)\n",
    "            else:\n",
    "                i = \"отлично\"\n",
    "                mark_list.append(i)\n",
    "        else:\n",
    "            i = \"ошибка\"\n",
    "            mark_list.append(i)\n",
    "            \n",
    "    str_mark = \", \".join(mark_list)\n",
    "    return str_mark\n",
    "\n",
    "#mark = [\"Иванов: 4, 4, 3\", \"Петров: 2, 5\"]\n",
    "mark = \"Иванов: 4, 4, 3\"\n",
    "str_mark = \"\"              # Оценки в нужном формате\n",
    "mark_list = []\n",
    "try:\n",
    "    if type(mark) != list:\n",
    "        raise TypeError(\"Некорректные данные\", \"Параметр не является строкой\")\n",
    "    \n",
    "    else:\n",
    "        name_mark_list = []    \n",
    "        for i in mark:\n",
    "            name, marks = i.split(\": \") # Имя и оценки\n",
    "            marks = marks.split(\", \") # Оценки СПИСОК\n",
    "            mark_translate(marks) \n",
    "            mark_list = []\n",
    "            marks = \", \".join(marks)\n",
    "            name = name+\": \"+ str(str_mark)\n",
    "            name_mark_list.append(name)\n",
    "\n",
    "        print(name_mark_list)\n",
    "except TypeError as e:\n",
    "    print(\"Ошибка TypeError:\", e)\n",
    "\n",
    "except Exception as e:\n",
    "    print(\"Непредвиденная ошибка:\", e)"
   ]
  }
 ],
 "metadata": {
  "kernelspec": {
   "display_name": "Python 3",
   "language": "python",
   "name": "python3"
  },
  "language_info": {
   "codemirror_mode": {
    "name": "ipython",
    "version": 3
   },
   "file_extension": ".py",
   "mimetype": "text/x-python",
   "name": "python",
   "nbconvert_exporter": "python",
   "pygments_lexer": "ipython3",
   "version": "3.7.3"
  }
 },
 "nbformat": 4,
 "nbformat_minor": 2
}
