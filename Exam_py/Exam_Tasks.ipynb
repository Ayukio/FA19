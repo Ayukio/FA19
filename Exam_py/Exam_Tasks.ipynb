{
 "cells": [
  {
   "cell_type": "markdown",
   "metadata": {},
   "source": [
    "## Task1\n",
    "\n",
    "- Task1.1✅(20 баллов)\n",
    "- Task1.2✅(10 баллов)\n",
    "- Task1.3✅(10 баллов)\n",
    "\n",
    "> (20 баллов)\n",
    "\n",
    "Имеется список кортежей вида (товар, цена). Например, [(″ручка″, 25),\n",
    "(″фломастеры″, 350), (″альбом″, 350)].\n",
    "Создайте функцию, которая для такого списка находит самый дорогой товар. Если\n",
    "таких товаров несколько, то все. Список является параметром, функция\n",
    "возвращает список товаров и их цену."
   ]
  },
  {
   "cell_type": "code",
   "execution_count": 2,
   "metadata": {},
   "outputs": [
    {
     "data": {
      "text/plain": [
       "['фломастеры', 350, 'альбом', 350]"
      ]
     },
     "execution_count": 2,
     "metadata": {},
     "output_type": "execute_result"
    }
   ],
   "source": [
    "def goods_finder(listt):\n",
    "    global max_good\n",
    "    max_good = 0\n",
    "    listt_goods = []\n",
    "    for i in range(len(listt)):\n",
    "        if listt[i][1] >= max_good:\n",
    "            max_good = listt[i][1]\n",
    "\n",
    "    for i in range(len(listt)):\n",
    "        if max_good in listt[i]:\n",
    "            listt_goods.append(listt[i][0])\n",
    "            listt_goods.append(listt[i][1]) \n",
    "    \n",
    "    return listt_goods\n",
    "\n",
    "listt = [(\"ручка\", 25), (\"фломастеры\", 350), (\"альбом\", 350), (\"карандаш\", 10)]\n",
    "goods_finder(listt)"
   ]
  },
  {
   "cell_type": "markdown",
   "metadata": {},
   "source": [
    ">(10 баллов)\n",
    "\n",
    "Создайте с помощью присваивания список указанного вида. Вызовите\n",
    "созданную функцию. Выведите на экран названия товаров и их цену в виде\n",
    "строки «фломастеры, альбом – самые дорогие товары, цена – 350 руб.»"
   ]
  },
  {
   "cell_type": "code",
   "execution_count": 3,
   "metadata": {
    "scrolled": true
   },
   "outputs": [
    {
     "name": "stdout",
     "output_type": "stream",
     "text": [
      "фломастеры, альбом – самые дорогие товары, цена – 350 руб.\n"
     ]
    }
   ],
   "source": [
    "my_string = \"\"\n",
    "for i in range(len(listt)):\n",
    "    if max_good in listt[i]:\n",
    "        my_string += listt[i][0] + \", \"\n",
    "my_string = my_string[:-2]\n",
    "print(my_string, \"– самые дорогие товары, цена – \"+ str(max_good) + \" руб.\")"
   ]
  },
  {
   "cell_type": "markdown",
   "metadata": {},
   "source": [
    "> (10 баллов)\n",
    "\n",
    "Если исходный список пуст или параметр не является списком, то\n",
    "функция генерирует собственное исключение. Добавьте в программу обработку\n",
    "исключений (как собственного, так и стандартных)."
   ]
  },
  {
   "cell_type": "code",
   "execution_count": 13,
   "metadata": {},
   "outputs": [
    {
     "name": "stdout",
     "output_type": "stream",
     "text": [
      "Ошибка ValueError: ('Некорректные данные', 'Список пуст или параметр не является списком')\n"
     ]
    }
   ],
   "source": [
    "def goods_finder(listt):\n",
    "    try:\n",
    "        if listt == [] or type(listt) != list:\n",
    "            raise ValueError(\"Некорректные данные\", \"Список пуст или параметр не является списком\")\n",
    "\n",
    "        global max_good\n",
    "        max_good = 0\n",
    "        listt_goods = []\n",
    "        for i in range(len(listt)):\n",
    "            if listt[i][1] >= max_good:\n",
    "                max_good = listt[i][1]\n",
    "\n",
    "        for i in range(len(listt)):\n",
    "            if max_good in listt[i]:\n",
    "                listt_goods.append(listt[i][0])\n",
    "                listt_goods.append(listt[i][1]) \n",
    "\n",
    "        return listt_goods\n",
    "    \n",
    "    except ValueError as e:\n",
    "        print(\"Ошибка ValueError:\", e)\n",
    "        return [0]\n",
    "\n",
    "    except Exception as e:\n",
    "        print(\"Непредвиденная ошибка:\", e)\n",
    "        return [0]\n",
    "    \n",
    "# Выбор типа списка\n",
    "#listt = [(\"ручка\", 25), (\"фломастеры\", 350), (\"альбом\", 350), (\"карандаш\", 350)]\n",
    "listt = []\n",
    "#listt = \"\"\n",
    "\n",
    "check = goods_finder(listt)\n",
    "if check != [0]:\n",
    "    my_string = \"\"\n",
    "    for i in range(len(listt)):\n",
    "        if max_good in listt[i]:\n",
    "            my_string += listt[i][0] + \", \"\n",
    "\n",
    "    my_string = my_string[:-2]\n",
    "    print(my_string, \"– самые дорогие товары, цена – \"+ str(max_good) + \" руб.\") "
   ]
  },
  {
   "cell_type": "markdown",
   "metadata": {},
   "source": [
    "## Task2\n",
    "- Task2.1✅(20 баллов)\n",
    "- Task2.2✅(10 баллов)\n",
    "- Task2.3✅(10 баллов)\n",
    "\n",
    "> (20 баллов)\n",
    "\n",
    "Строка представляет собой дату в формате день.месяц.год, например,\n",
    "«17.5.21», «18.06.56», «2.12.99». Напишите функцию, которая определяет время\n",
    "года, соответствующее этой дате. Проверьте, что день находится в диапазоне от 1\n",
    "до 31, месяц – от 1 до 12. Функция возвращает название времени года. В случае\n",
    "ошибки возвращает «Ошибка в дате»."
   ]
  },
  {
   "cell_type": "code",
   "execution_count": 42,
   "metadata": {},
   "outputs": [
    {
     "name": "stdout",
     "output_type": "stream",
     "text": [
      "Зима\n"
     ]
    }
   ],
   "source": [
    "def date_DMY(strr):\n",
    "    day, month, year = strr.split(\".\")\n",
    "    day = int(day)\n",
    "    month = int(month)\n",
    "\n",
    "    if 1 <= day <= 31 and 1 <= month <= 12:\n",
    "        if month == 1 or month == 2 or month == 12:\n",
    "            return \"Зима\"\n",
    "        elif month == 3 or month == 4 or month == 5:\n",
    "            return \"Весна\"\n",
    "        elif month == 6 or month == 7 or month == 8:\n",
    "            return \"Лето\"\n",
    "        elif month == 9 or month == 10 or month == 11:\n",
    "            return \"Осень\"\n",
    "        \n",
    "    return \"Ошибка в дате\"\n",
    "    \n",
    "    \n",
    "strr = \"2.12.99\"\n",
    "print(date_DMY(strr))"
   ]
  },
  {
   "cell_type": "markdown",
   "metadata": {},
   "source": [
    "> (10 баллов)\n",
    "\n",
    "Создайте с помощью присваивания строку вида «17.15.21, 18.06.56,\n",
    "2.12.99». Используя созданную функцию, вычислите сколько дат приходятся на\n",
    "каждое время года. Выведите полученную информацию в виде таблицы с\n",
    "заголовками: время года, количество."
   ]
  },
  {
   "cell_type": "code",
   "execution_count": 48,
   "metadata": {},
   "outputs": [
    {
     "name": "stdout",
     "output_type": "stream",
     "text": [
      "Время года     Кол-во\n",
      "Зима              1\n",
      "Весна             0\n",
      "Лето              1\n",
      "Осень             0\n",
      "Ошибок            1\n"
     ]
    }
   ],
   "source": [
    "def date_DMY(strr):\n",
    "    day, month, year = strr.split(\".\")\n",
    "    day = int(day)\n",
    "    month = int(month)\n",
    "\n",
    "    if 1 <= day <= 31 and 1 <= month <= 12:\n",
    "        if month == 1 or month == 2 or month == 12:\n",
    "            return \"Зима\"\n",
    "        elif month == 3 or month == 4 or month == 5:\n",
    "            return \"Весна\"\n",
    "        elif month == 6 or month == 7 or month == 8:\n",
    "            return \"Лето\"\n",
    "        elif month == 9 or month == 10 or month == 11:\n",
    "            return \"Осень\"\n",
    "        \n",
    "    return \"Ошибка в дате\"\n",
    "    \n",
    "    \n",
    "strr = \"17.15.21, 18.06.56, 2.12.99\"\n",
    "list1 = strr.split(\", \")\n",
    "z = 0\n",
    "v = 0 \n",
    "l = 0\n",
    "o = 0\n",
    "errors = 0\n",
    "for i in list1:\n",
    "    if date_DMY(i) == \"Зима\":\n",
    "        z += 1\n",
    "    elif date_DMY(i) == \"Весна\":\n",
    "        v += 1\n",
    "    elif date_DMY(i) == \"Лето\":\n",
    "        l += 1\n",
    "    elif date_DMY(i) == \"Осень\":\n",
    "        o += 1\n",
    "    else:\n",
    "        errors += 1\n",
    "print(\"Время года     Кол-во\")\n",
    "print(\"Зима             \", z)\n",
    "print(\"Весна            \", v)\n",
    "print(\"Лето             \", l)\n",
    "print(\"Осень            \", o)\n",
    "print(\"Ошибок           \" , errors)"
   ]
  },
  {
   "cell_type": "markdown",
   "metadata": {},
   "source": [
    ">(10 баллов) \n",
    "\n",
    "Если параметр функции не является строкой, то функция генерирует\n",
    "собственное исключение. Добавьте в программу обработку исключений (как\n",
    "собственного, так и стандартных)."
   ]
  },
  {
   "cell_type": "code",
   "execution_count": 50,
   "metadata": {},
   "outputs": [
    {
     "name": "stdout",
     "output_type": "stream",
     "text": [
      "Ошибка ValueError\n",
      "Время года     Кол-во\n",
      "Зима              1\n",
      "Весна             0\n",
      "Лето              0\n",
      "Осень             0\n",
      "Ошибок            1\n"
     ]
    }
   ],
   "source": [
    "def date_DMY(strr):\n",
    "    if type(strr) != str:\n",
    "        raise ValueError(\"Некорректные данные\", \"Параметр не является строкой\")\n",
    "    day, month, year = strr.split(\".\")\n",
    "    day = int(day)\n",
    "    month = int(month)\n",
    "        \n",
    "    if 1 <= day <= 31 and 1 <= month <= 12:\n",
    "        if month == 1 or month == 2 or month == 12:\n",
    "            return \"Зима\"\n",
    "        elif month == 3 or month == 4 or month == 5:\n",
    "            return \"Весна\"\n",
    "        elif month == 6 or month == 7 or month == 8:\n",
    "            return \"Лето\"\n",
    "        elif month == 9 or month == 10 or month == 11:\n",
    "            return \"Осень\"\n",
    "\n",
    "        return \"Ошибка в дате\"\n",
    "\n",
    "    \n",
    "strr = \"17.15.21, [18.03.56], 2.12.99\"\n",
    "list1 = strr.split(\", \")\n",
    "z = 0\n",
    "v = 0 \n",
    "l = 0\n",
    "o = 0\n",
    "errors = 0\n",
    "for i in list1:\n",
    "    try:\n",
    "        if date_DMY(i) == \"Зима\":\n",
    "            z += 1\n",
    "        elif date_DMY(i) == \"Весна\":\n",
    "            v += 1\n",
    "        elif date_DMY(i) == \"Лето\":\n",
    "            l += 1\n",
    "        elif date_DMY(i) == \"Осень\":\n",
    "            o += 1\n",
    "        else:\n",
    "            errors += 1\n",
    "        \n",
    "    except ValueError:\n",
    "        print(\"Ошибка ValueError\")\n",
    "\n",
    "    except Exception as e:\n",
    "        print(\"Непредвиденная ошибка:\", e)\n",
    "print(\"Время года     Кол-во\")\n",
    "print(\"Зима             \", z)\n",
    "print(\"Весна            \", v)\n",
    "print(\"Лето             \", l)\n",
    "print(\"Осень            \", o)\n",
    "print(\"Ошибок           \" , errors)"
   ]
  },
  {
   "cell_type": "markdown",
   "metadata": {},
   "source": [
    "## Task3\n",
    "- Task3.1✅(20 баллов)\n",
    "- Task3.2✅(10 баллов)\n",
    "- Task3.3✅(10 баллов)\n",
    "\n",
    "> (20 баллов)\n",
    "\n",
    "Имеется строка, состоящая из целых чисел, перечисленных через\n",
    "запятую. Напишите функцию, которая вычисляет количество положительных и\n",
    "отрицательных чисел в этой строке. Строка является параметром функции.\n",
    "Функция возвращает кортеж из 2 вычисленных значений."
   ]
  },
  {
   "cell_type": "code",
   "execution_count": 4,
   "metadata": {},
   "outputs": [
    {
     "name": "stdout",
     "output_type": "stream",
     "text": [
      "(2, 3)\n"
     ]
    }
   ],
   "source": [
    "def digits(my_str):\n",
    "    k = 0 \n",
    "    c = 0\n",
    "    my_list = my_str.split(\",\")\n",
    "    for i in range(len(my_list)):\n",
    "        if int(my_list[i]) > 0:\n",
    "            k += 1\n",
    "        elif int(my_list[i]) < 0:\n",
    "            c += 1\n",
    "    \n",
    "    return (k, c)\n",
    "    \n",
    "    \n",
    "my_str = \"-1, 2, -3, 4, -12, 0\"\n",
    "print(digits(my_str))"
   ]
  },
  {
   "cell_type": "markdown",
   "metadata": {},
   "source": [
    ">(10 баллов)\n",
    "\n",
    "Выведите на экран отрицательные числа исходной строки в порядке\n",
    "возрастания через запятую в одной строке."
   ]
  },
  {
   "cell_type": "code",
   "execution_count": 5,
   "metadata": {},
   "outputs": [
    {
     "name": "stdout",
     "output_type": "stream",
     "text": [
      "Строка в порядке возрастания: -100, -12, -3, -1\n"
     ]
    }
   ],
   "source": [
    "my_str = \"-12, -1, 2, -3, 4, -100\"\n",
    "my_list = my_str.split(\", \")\n",
    "l = []\n",
    "\n",
    "for i in my_list:\n",
    "    if int(i) < 0:\n",
    "        l.append(int(i))\n",
    "        \n",
    "l.sort()\n",
    "out = \"\"\n",
    "for i in range(len(l)):\n",
    "    out += str(l[i]) + \", \"\n",
    "print(\"Строка в порядке возрастания:\", out[:-2])"
   ]
  },
  {
   "cell_type": "markdown",
   "metadata": {},
   "source": [
    "> (10 баллов)\n",
    "\n",
    "Если параметр функции не является строкой, то функция генерирует\n",
    "собственное исключение. Добавьте в программу обработку исключений (как\n",
    "собственного, так и стандартных)."
   ]
  },
  {
   "cell_type": "code",
   "execution_count": 166,
   "metadata": {},
   "outputs": [
    {
     "name": "stdout",
     "output_type": "stream",
     "text": [
      "<class 'list'>\n",
      "Ошибка TypeError: ('Некорректные данные', 'Параметр не является строкой')\n",
      "\n"
     ]
    }
   ],
   "source": [
    "def digits(my_str):\n",
    "    try:\n",
    "        if type(my_str) != str:\n",
    "            print(type(my_str))\n",
    "            raise TypeError(\"Некорректные данные\", \"Параметр не является строкой\")\n",
    "        k = 0 \n",
    "        c = 0\n",
    "        my_list = my_str.split(\",\")\n",
    "        for i in range(len(my_list)):\n",
    "            if int(my_list[i]) > 0:\n",
    "                k += 1\n",
    "            elif int(my_list[i]) < 0:\n",
    "                c += 1\n",
    "\n",
    "        return (k, c)\n",
    "    except TypeError as e:\n",
    "        print(\"Ошибка TypeError:\", e)\n",
    "        return \"\"\n",
    "\n",
    "    except Exception as e:\n",
    "        print(\"Непредвиденная ошибка:\", e)\n",
    "        return \"\"\n",
    "    \n",
    "# выбор типа строки    \n",
    "#my_str = \"-1, 2, -3, 4, -12, 0\"\n",
    "my_str = []\n",
    "print(digits(my_str))"
   ]
  },
  {
   "cell_type": "markdown",
   "metadata": {},
   "source": [
    "## Task4\n",
    "- Task4.1✅(20 баллов)\n",
    "- Task4.2✅(10 баллов)\n",
    "- Task4.3✅(10 баллов)\n",
    "\n",
    "> (20 баллов)\n",
    "\n",
    "Имеется список строк вида «товар: количество» (товар может\n",
    "повторяться), например, [“ручки: 5”, “тетради: 30”, “ручки: 10”]. Напишите\n",
    "функцию, которая для этого списка вычисляет общее количество каждого товара.\n",
    "Функция возвращает словарь вида {“ручки”: 15, “тетради”: 30}."
   ]
  },
  {
   "cell_type": "code",
   "execution_count": 97,
   "metadata": {},
   "outputs": [
    {
     "name": "stdout",
     "output_type": "stream",
     "text": [
      "{'ручки': 15, 'тетради': 30}\n"
     ]
    }
   ],
   "source": [
    "def goods_find(my_list4):\n",
    "    for i in my_list4:\n",
    "        key, count = i.split(\" \") # Крутая тема!\n",
    "        count = int(count)\n",
    "        key = key[:len(key)-1]\n",
    "        if key not in d:\n",
    "            d[key] = count\n",
    "        else:\n",
    "            d[key] += count\n",
    "        \n",
    "    return d\n",
    "d = {}\n",
    "my_list4 = [\"ручки: 5\", \"тетради: 30\", \"ручки: 10\"]\n",
    "print(goods_find(my_list4))"
   ]
  },
  {
   "cell_type": "markdown",
   "metadata": {},
   "source": [
    ">(10 баллов) \n",
    "\n",
    "Создайте с помощью присваивания список указанного вида. Вызовите\n",
    "созданную функцию. Выведите на экран результат в виде таблицы из 2 столбцов:\n",
    "товар, количество. Выведите количество различных товаров в исходном списке."
   ]
  },
  {
   "cell_type": "code",
   "execution_count": 98,
   "metadata": {},
   "outputs": [
    {
     "name": "stdout",
     "output_type": "stream",
     "text": [
      "Товар         Кол-во         \n",
      "ручки           15             \n",
      "тетради         30             \n",
      "карандаши       29             \n",
      "\n",
      "Количество различных товаров: 3\n"
     ]
    }
   ],
   "source": [
    "def goods_find(my_list4):\n",
    "    for i in my_list4:\n",
    "        key, count = i.split(\" \") # Крутая тема!\n",
    "        count = int(count)\n",
    "        key = key[:len(key)-1]\n",
    "        if key not in d:\n",
    "            d[key] = count\n",
    "        else:\n",
    "            d[key] += count\n",
    "        \n",
    "    return d\n",
    "\n",
    "my_list4 = [\"ручки: 5\", \"тетради: 30\", \"ручки: 10\", \"карандаши: 12\", \"карандаши: 17\"]\n",
    "d = {}\n",
    "goods_find(my_list4)\n",
    "print(\"{:<13} {:<15}\".format(\"Товар\", \"Кол-во\"))\n",
    "for i in d.items():\n",
    "    name, val = i\n",
    "    print(\"{:<15} {:<15}\".format(name, val))\n",
    "print(\"\\nКоличество различных товаров:\", len(d))"
   ]
  },
  {
   "cell_type": "markdown",
   "metadata": {},
   "source": [
    ">(10 баллов) \n",
    "\n",
    "Если исходный список пуст или параметр не является списком, то\n",
    "функция генерирует собственное исключение. Добавьте в программу обработку\n",
    "исключений (как собственного, так и стандартных)."
   ]
  },
  {
   "cell_type": "code",
   "execution_count": 9,
   "metadata": {},
   "outputs": [
    {
     "name": "stdout",
     "output_type": "stream",
     "text": [
      "Товар         Кол-во         \n",
      "ручки           15             \n",
      "тетради         30             \n",
      "карандаши       29             \n",
      "\n",
      "Количество различных товаров: 3\n"
     ]
    }
   ],
   "source": [
    "def goods_find(my_list4):\n",
    "    try:\n",
    "        if my_list4 == [] or type(my_list4) != list:\n",
    "            raise TypeError(\"Некорректные данные\", \"Список пуст или параметр не является списком\")\n",
    "   \n",
    "        for i in my_list4:\n",
    "            key, count = i.split(\" \") # Крутая тема!\n",
    "            count = int(count)\n",
    "            key = key[:len(key)-1]\n",
    "            if key not in d:\n",
    "                d[key] = count\n",
    "            else:\n",
    "                d[key] += count\n",
    "\n",
    "        return d\n",
    "    except TypeError as e:\n",
    "        print(\"Ошибка TypeError:\", e)\n",
    "        return [0]\n",
    "    except Exception as e:\n",
    "        print(\"Непредвиденная ошибка:\", e)\n",
    "        return [0]\n",
    "\n",
    "\n",
    "# Выбор типа строки\n",
    "my_list4 = [\"ручки: 5\", \"тетради: 30\", \"ручки: 10\", \"карандаши: 12\", \"карандаши: 17\"]\n",
    "#my_list4 = \"\"\n",
    "#my_list4 = []\n",
    "d = {}\n",
    "if goods_find(my_list4) != [0]:\n",
    "    print(\"{:<13} {:<15}\".format(\"Товар\", \"Кол-во\"))\n",
    "    for i in d.items():\n",
    "        name, val = i\n",
    "        print(\"{:<15} {:<15}\".format(name, val))\n",
    "    print(\"\\nКоличество различных товаров:\", len(d))        \n",
    "\n"
   ]
  },
  {
   "cell_type": "markdown",
   "metadata": {},
   "source": [
    "## Task5 \n",
    "\n",
    "Нет его"
   ]
  },
  {
   "cell_type": "markdown",
   "metadata": {},
   "source": [
    "## Task6\n",
    "- Task6.1✅(20 баллов)\n",
    "- Task6.2✅(10 баллов)\n",
    "- Task6.3✅❌(10 баллов)    \n",
    "\n",
    "Внимание ошибка в условии _Task6.3_ задачи!!!\n",
    "\n",
    "> (20 баллов)\n",
    "\n",
    "Строка представляет собой **список** оценок через запятую, например, «3, 4,\n",
    "5, 2». Количество оценок заранее неизвестно. Напишите функцию, которая\n",
    "преобразует эту строку к виду, где оценки указаны словами: «удовлетворительно,\n",
    "хорошо, отлично, неудовлетворительно». Проверьте, что оценка находится в\n",
    "диапазоне от 2 до 5. Недопустимая оценка заменяется словом «ошибка». Функция\n",
    "возвращает полученную строку."
   ]
  },
  {
   "cell_type": "code",
   "execution_count": 120,
   "metadata": {},
   "outputs": [
    {
     "name": "stdout",
     "output_type": "stream",
     "text": [
      "удовлетворительно, хорошо, отлично, неудовлетворительно, ошибка\n"
     ]
    }
   ],
   "source": [
    "def mark_translate(mark):\n",
    "    for i in mark:\n",
    "        i = int(i)\n",
    "        if 2 <= i <= 5:\n",
    "            if i == 2:\n",
    "                i = \"неудовлетворительно\" \n",
    "                mark_list.append(i)\n",
    "            elif i == 3:\n",
    "                i = \"удовлетворительно\"\n",
    "                mark_list.append(i)\n",
    "            elif i == 4:\n",
    "                i = \"хорошо\"\n",
    "                mark_list.append(i)\n",
    "            else:\n",
    "                i = \"отлично\"\n",
    "                mark_list.append(i)\n",
    "        else:\n",
    "            i = \"ошибка\"\n",
    "            mark_list.append(i)\n",
    "            \n",
    "    str_mark = \", \".join(mark_list)\n",
    "    return str_mark \n",
    "mark = [3, 4, 5, 2, 0]\n",
    "mark_list = []\n",
    "print(mark_translate(mark))"
   ]
  },
  {
   "cell_type": "markdown",
   "metadata": {},
   "source": [
    "> (10 баллов)\n",
    "\n",
    "Создайте с помощью присваивания **список** вида [«Иванов: 4, 4, 3»,\n",
    "«Петров: 2, 5»]. Используя созданную функцию, преобразуйте его к виду\n",
    "[«Иванов: хорошо, хорошо, удовлетворительно», «Петров: неудовлетворительно,\n",
    "отлично»]."
   ]
  },
  {
   "cell_type": "code",
   "execution_count": 101,
   "metadata": {},
   "outputs": [
    {
     "name": "stdout",
     "output_type": "stream",
     "text": [
      "['Иванов: хорошо, хорошо, удовлетворительно', 'Петров: неудовлетворительно, отлично']\n"
     ]
    }
   ],
   "source": [
    "def mark_translate(mark):\n",
    "    global str_mark\n",
    "    for i in mark:\n",
    "        i = int(i)\n",
    "        if 2 <= i <= 5:\n",
    "            if i == 2:\n",
    "                i = \"неудовлетворительно\" \n",
    "                mark_list.append(i)\n",
    "            elif i == 3:\n",
    "                i = \"удовлетворительно\"\n",
    "                mark_list.append(i)\n",
    "            elif i == 4:\n",
    "                i = \"хорошо\"\n",
    "                mark_list.append(i)\n",
    "            else:\n",
    "                i = \"отлично\"\n",
    "                mark_list.append(i)\n",
    "        else:\n",
    "            i = \"ошибка\"\n",
    "            mark_list.append(i)\n",
    "            \n",
    "    str_mark = \", \".join(mark_list)\n",
    "    return str_mark\n",
    "\n",
    "mark = [\"Иванов: 4, 4, 3\", \"Петров: 2, 5\"]\n",
    "str_mark = \"\"              # Оценки в нужном формате\n",
    "mark_list = []\n",
    "name_mark_list = []\n",
    "for i in mark:\n",
    "    name, marks = i.split(\": \") # Имя и оценки\n",
    "    marks = marks.split(\", \") # Оценки СПИСОК\n",
    "    mark_translate(marks) \n",
    "    mark_list = []\n",
    "    marks = \", \".join(marks)\n",
    "    name = name+\": \"+ str(str_mark)\n",
    "    name_mark_list.append(name)\n",
    "\n",
    "print(name_mark_list)"
   ]
  },
  {
   "cell_type": "markdown",
   "metadata": {},
   "source": [
    ">(10 баллов) \n",
    "\n",
    "_в задании ошибка_\n",
    "\n",
    "Если параметр функции не является **строкой**, то функция генерирует\n",
    "собственное исключение. Добавьте в программу обработку исключений (как\n",
    "собственного, так и стандартных).\n",
    "\n",
    "**Однако я сделаю, если параметр функции не является списком**"
   ]
  },
  {
   "cell_type": "code",
   "execution_count": 12,
   "metadata": {},
   "outputs": [
    {
     "name": "stdout",
     "output_type": "stream",
     "text": [
      "['Иванов: хорошо, хорошо, удовлетворительно', 'Петров: неудовлетворительно, отлично']\n"
     ]
    }
   ],
   "source": [
    "def mark_translate(mark):\n",
    "    try:\n",
    "        if type(mark) != list:\n",
    "            raise TypeError(\"Некорректные данные\", \"Параметр не является списком\")\n",
    "            \n",
    "        global str_mark\n",
    "        for i in mark:\n",
    "            i = int(i)\n",
    "            if 2 <= i <= 5:\n",
    "                if i == 2:\n",
    "                    i = \"неудовлетворительно\" \n",
    "                    mark_list.append(i)\n",
    "                elif i == 3:\n",
    "                    i = \"удовлетворительно\"\n",
    "                    mark_list.append(i)\n",
    "                elif i == 4:\n",
    "                    i = \"хорошо\"\n",
    "                    mark_list.append(i)\n",
    "                else:\n",
    "                    i = \"отлично\"\n",
    "                    mark_list.append(i)\n",
    "            else:\n",
    "                i = \"ошибка\"\n",
    "                mark_list.append(i)\n",
    "\n",
    "        str_mark = \", \".join(mark_list)\n",
    "        return str_mark\n",
    "    except TypeError as e:\n",
    "        print(\"Ошибка TypeError:\", e)\n",
    "\n",
    "    except Exception as e:\n",
    "        print(\"Непредвиденная ошибка:\", e)\n",
    "\n",
    "mark = [\"Иванов: 4, 4, 3\", \"Петров: 2, 5\"]\n",
    "#mark = \"Иванов: 4, 4, 3\"\n",
    "str_mark = \"\"              # Оценки в нужном формате\n",
    "mark_list = []\n",
    "name_mark_list = []    \n",
    "for i in mark:\n",
    "    name, marks = i.split(\": \") # Имя и оценки\n",
    "    marks = marks.split(\", \") # Оценки СПИСОК\n",
    "    mark_translate(marks) \n",
    "    mark_list = []\n",
    "    marks = \", \".join(marks)\n",
    "    name = name+\": \"+ str(str_mark)\n",
    "    name_mark_list.append(name)\n",
    "print(name_mark_list)"
   ]
  },
  {
   "cell_type": "markdown",
   "metadata": {},
   "source": [
    "## Task7\n",
    "- Task7.1✅(20 баллов)\n",
    "- Task7.2✅(10 баллов)\n",
    "- Task7.3✅(10 баллов)    \n",
    "\n",
    "> (20 баллов)\n",
    "\n",
    "Дробь задается списком из 2 чисел: числителя и знаменателя. Например,\n",
    "[24,5], [2,3], [8,2]. Напишите функцию, которая выводит эту дробь в виде\n",
    "смешанного числа (сокращать дробь не нужно), как показано ниже. Если дробная\n",
    "часть смешанного числа равна нулю, она не печатается. Если исходная дробь\n",
    "была правильной, то печатается сообщение «правильная дробь». Например,\n",
    "24/5 = 4 4/5 , 2/3 – правильная дробь , 8/2 = 4\n",
    "Параметром функции является список из 2 целых чисел."
   ]
  },
  {
   "cell_type": "code",
   "execution_count": 152,
   "metadata": {},
   "outputs": [
    {
     "name": "stdout",
     "output_type": "stream",
     "text": [
      "2/3 - правильная дробь\n"
     ]
    }
   ],
   "source": [
    "def conversion(my_listt):\n",
    "    for i in my_listt:\n",
    "        if my_listt[1] != 0:\n",
    "            if my_listt[0] % my_listt[1] == 0:\n",
    "                answ = str(my_listt[0] // my_listt[1])\n",
    "\n",
    "            elif my_listt[0] > my_listt[1]:\n",
    "                integ = my_listt[0] // my_listt[1] # целая часть\n",
    "                fract = my_listt[0] % my_listt[1]  # дробная часть\n",
    "                answ = str(integ)+\" \"+str(fract)+\"/\"+str(my_listt[1])\n",
    "\n",
    "\n",
    "            elif my_listt[0] < my_listt[1]:\n",
    "                answ = str(my_listt[0])+\"/\"+str(my_listt[1])\n",
    "    if my_listt[1] != 0:            \n",
    "        if my_listt[0] % my_listt[1] == 0:\n",
    "            print(str(my_listt[0])+\"/\"+str(my_listt[1])+\" = \"+answ)\n",
    "        elif my_listt[0] > my_listt[1]:\n",
    "            print(str(my_listt[0])+\"/\"+str(my_listt[1])+\" = \"+answ)\n",
    "        elif my_listt[0] < my_listt[1]:\n",
    "            print(answ+\" - правильная дробь\")\n",
    "            \n",
    "my_listt = [2, 3]\n",
    "conversion(my_listt)"
   ]
  },
  {
   "cell_type": "markdown",
   "metadata": {},
   "source": [
    ">(10 баллов) \n",
    "\n",
    "Создайте с помощью присваивания список, содержащий несколько\n",
    "дробей. Вызовите созданную функцию для каждого элемента этого списка."
   ]
  },
  {
   "cell_type": "code",
   "execution_count": 153,
   "metadata": {},
   "outputs": [
    {
     "name": "stdout",
     "output_type": "stream",
     "text": [
      "24/5 = 4 4/5\n",
      "2/3 - правильная дробь\n",
      "8/2 = 4\n"
     ]
    }
   ],
   "source": [
    "def conversion(my_listt):\n",
    "    for i in my_listt:\n",
    "        if my_listt[1] != 0:\n",
    "            if my_listt[0] % my_listt[1] == 0:\n",
    "                answ = str(my_listt[0] // my_listt[1])\n",
    "\n",
    "            elif my_listt[0] > my_listt[1]:\n",
    "                integ = my_listt[0] // my_listt[1] # целая часть\n",
    "                fract = my_listt[0] % my_listt[1]  # дробная часть\n",
    "                answ = str(integ)+\" \"+str(fract)+\"/\"+str(my_listt[1])\n",
    "\n",
    "\n",
    "            elif my_listt[0] < my_listt[1]:\n",
    "                answ = str(my_listt[0])+\"/\"+str(my_listt[1])\n",
    "    if my_listt[1] != 0:            \n",
    "        if my_listt[0] % my_listt[1] == 0:\n",
    "            print(str(my_listt[0])+\"/\"+str(my_listt[1])+\" = \"+answ)\n",
    "        elif my_listt[0] > my_listt[1]:\n",
    "            print(str(my_listt[0])+\"/\"+str(my_listt[1])+\" = \"+answ)\n",
    "        elif my_listt[0] < my_listt[1]:\n",
    "            print(answ+\" - правильная дробь\")\n",
    "            \n",
    "my_listt = [[24,5], [2, 3], [8,2]]\n",
    "for i in my_listt:\n",
    "    conversion(i)"
   ]
  },
  {
   "cell_type": "markdown",
   "metadata": {},
   "source": [
    ">(10 баллов)\n",
    "\n",
    "Если параметр функции не является списком из 2 целых чисел, то\n",
    "функция генерирует собственное исключение. Добавьте в программу обработку\n",
    "исключений (как собственного, так и стандартных)."
   ]
  },
  {
   "cell_type": "code",
   "execution_count": 30,
   "metadata": {},
   "outputs": [
    {
     "name": "stdout",
     "output_type": "stream",
     "text": [
      "Ошибка IndexError: функции не является списком из 2 целых чисел\n",
      "2/3 - правильная дробь\n",
      "8/2 = 4\n"
     ]
    }
   ],
   "source": [
    "def conversion(my_listt):\n",
    "    try:\n",
    "        if len(my_listt) != 2:\n",
    "            raise IndexError(\"функции не является списком из 2 целых чисел\")\n",
    "        for i in my_listt:\n",
    "            if my_listt[1] != 0:\n",
    "                if my_listt[0] % my_listt[1] == 0:\n",
    "                    answ = str(my_listt[0] // my_listt[1])\n",
    "\n",
    "                elif my_listt[0] > my_listt[1]:\n",
    "                    integ = my_listt[0] // my_listt[1] # целая часть\n",
    "                    fract = my_listt[0] % my_listt[1]  # дробная часть\n",
    "                    answ = str(integ)+\" \"+str(fract)+\"/\"+str(my_listt[1])\n",
    "\n",
    "\n",
    "                elif my_listt[0] < my_listt[1]:\n",
    "                    answ = str(my_listt[0])+\"/\"+str(my_listt[1])\n",
    "        if my_listt[1] != 0:            \n",
    "            if my_listt[0] % my_listt[1] == 0:\n",
    "                print(str(my_listt[0])+\"/\"+str(my_listt[1])+\" = \"+answ)\n",
    "            elif my_listt[0] > my_listt[1]:\n",
    "                print(str(my_listt[0])+\"/\"+str(my_listt[1])+\" = \"+answ)\n",
    "            elif my_listt[0] < my_listt[1]:\n",
    "                print(answ+\" - правильная дробь\")\n",
    "    except IndexError as e:\n",
    "        print(\"Ошибка IndexError:\",e)  \n",
    "\n",
    "    except Exception as e:\n",
    "        print(\"Непредвиденная ошибка:\",e)\n",
    "            \n",
    "my_listt = [[24], [2, 3], [8, 2]]\n",
    "for i in my_listt:\n",
    "    conversion(i)"
   ]
  },
  {
   "cell_type": "markdown",
   "metadata": {},
   "source": [
    "## Task8\n",
    "- Task8.1✅(20 баллов)\n",
    "- Task8.2✅(10 баллов)\n",
    "- Task8.3✅(10 баллов)    \n",
    "\n",
    "> (20 баллов)\n",
    "\n",
    "Напишите функцию, которая вычисляет значение будущей стоимости\n",
    "(FV) по формуле сложных процентов , где S – первоначальная стоимость, p –\n",
    "процентная ставка, n – количество периодов, и возвращает строку вида: (для\n",
    "S=100, n=50, p=5%). Все числа выводятся с 2 знаками после запятой. S, p, n –\n",
    "параметры функции. Если значение какого-либо параметра меньше или равно\n",
    "нулю, то возвращается сообщение «Ошибка в данных»."
   ]
  },
  {
   "cell_type": "code",
   "execution_count": 125,
   "metadata": {},
   "outputs": [
    {
     "data": {
      "text/plain": [
       "'для S=100.00, n=50.00, p=5.00%, S_n=1146.74'"
      ]
     },
     "execution_count": 125,
     "metadata": {},
     "output_type": "execute_result"
    }
   ],
   "source": [
    "def FV(S, p, n):\n",
    "    if S <= 0 or p <= 0 or n <= 0:\n",
    "        return \"Ошибка в данных\"\n",
    "    S_n = (1 + p/100)**n * S\n",
    "    S = format(S, '.2f')\n",
    "    p = format(p, '.2f')\n",
    "    n = format(n, '.2f')\n",
    "    S_n = format(S_n, '.2f')\n",
    "    return f\"для S={S}, n={n}, p={p}%, S_n={S_n}\"\n",
    "\n",
    "S = 100\n",
    "p = 5\n",
    "n = 50\n",
    "FV(S, p, n)"
   ]
  },
  {
   "cell_type": "markdown",
   "metadata": {},
   "source": [
    "> (10 баллов)\n",
    "\n",
    "Создайте с помощью присваивания список кортежей из трех чисел (S, n, p). Вызовите созданную функцию для данных из этого списка и сохраните\n",
    "результаты работы функции в текстовый файл."
   ]
  },
  {
   "cell_type": "code",
   "execution_count": 126,
   "metadata": {},
   "outputs": [],
   "source": [
    "def FV(S, p, n):\n",
    "    if S <= 0 or p <= 0 or n <= 0:\n",
    "        return \"Ошибка в данных\"\n",
    "    S_n = (1 + p/100)**n * S\n",
    "    S = format(S, '.2f')\n",
    "    p = format(p, '.2f')\n",
    "    n = format(n, '.2f')\n",
    "    S_n = format(S_n, '.2f')\n",
    "    return f\"для S={S}, n={n}, p={p}%, S_n={S_n}\"\n",
    "\n",
    "my_lst = [(100, 5, 50), (100, 6, 50), (150, 25, 0), (100, 5, 52),]\n",
    "for i in my_lst:\n",
    "    res = FV(*i)        #Вместо FV(i[0], i[1], i[2])\n",
    "    with open(\"Res.txt\", \"a\") as f:\n",
    "        f.write(res+\"\\n\")"
   ]
  },
  {
   "cell_type": "markdown",
   "metadata": {},
   "source": [
    ">(10 баллов) \n",
    "\n",
    "Если какой-либо параметр не является числом, функция генерирует\n",
    "собственное исключение. Добавьте в программу обработку исключений (как\n",
    "собственного, так и стандартных)."
   ]
  },
  {
   "cell_type": "code",
   "execution_count": 127,
   "metadata": {},
   "outputs": [
    {
     "name": "stdout",
     "output_type": "stream",
     "text": [
      "Ошибка TypeError: не число\n",
      "для S=200.00, n=10.00, p=10.00%, S_n=518.75\n",
      "для S=150.00, n=1.00, p=25.00%, S_n=187.50\n"
     ]
    }
   ],
   "source": [
    "def FV(S, p, n):\n",
    "    for i in (S, p, n):\n",
    "        if type(i) != int and type(i) != float:\n",
    "            raise TypeError(\"не число\")\n",
    "    if S <= 0 or p <= 0 or n <= 0:\n",
    "        return \"Ошибка в данных\"\n",
    "    S_n = (1 + p/100)**n * S\n",
    "    S = format(S, '.2f')\n",
    "    p = format(p, '.2f')\n",
    "    n = format(n, '.2f')\n",
    "    S_n = format(S_n, '.2f')\n",
    "    return f\"для S={S}, n={n}, p={p}%, S_n={S_n}\"\n",
    "\n",
    "\n",
    "my_lst = [(100, \"50\", 5), (200, 10, 10), (150, 25, 1)]\n",
    "for i in my_lst:\n",
    "    try:\n",
    "        res = FV(*i)        #Вместо FV(i[0], i[1], i[2])\n",
    "        print(res)\n",
    "        with open(\"Res.txt\", \"a\") as f:\n",
    "            f.write(res+\"\\n\")\n",
    "    except TypeError as e:\n",
    "        print(\"Ошибка TypeError:\",e)  \n",
    "\n",
    "    except Exception as e:\n",
    "        print(\"Непредвиденная ошибка:\",e)"
   ]
  },
  {
   "cell_type": "markdown",
   "metadata": {},
   "source": [
    "## Task9\n",
    "- Task9.1✅(15 баллов)\n",
    "- Task9.2✅(15 баллов)\n",
    "- Task9.3✅(10 баллов)    \n",
    "\n",
    "> (15 баллов)\n",
    "\n",
    "Напишите функцию, которая для строки вида «Иванов: 100, 45, 89, 789»\n",
    "вычисляет сумму баллов. Строка является параметром функции. Функция\n",
    "возвращает вычисленное целое число."
   ]
  },
  {
   "cell_type": "code",
   "execution_count": 121,
   "metadata": {},
   "outputs": [
    {
     "name": "stdout",
     "output_type": "stream",
     "text": [
      "1023\n"
     ]
    }
   ],
   "source": [
    "def sum_points(my_str):\n",
    "    my_str = my_str.split(\": \")\n",
    "    my_str = my_str[1].split(\", \")\n",
    "    points = 0\n",
    "    for i in my_str:\n",
    "        points += int(i)\n",
    "    return points\n",
    "    \n",
    "my_str = \"Иванов: 100, 45, 89, 789\"\n",
    "print(sum_points(my_str))"
   ]
  },
  {
   "cell_type": "markdown",
   "metadata": {},
   "source": [
    ">(15 баллов) \n",
    "\n",
    "Текстовый файл Оценки.txt содержит строки указанного вида. Используя\n",
    "данные этого файла и созданную функцию, создайте новый файл, в котором\n",
    "строки упорядочены в порядке убывания суммы баллов."
   ]
  },
  {
   "cell_type": "code",
   "execution_count": 123,
   "metadata": {},
   "outputs": [
    {
     "name": "stdout",
     "output_type": "stream",
     "text": [
      "[610, 588, 334, 176]\n"
     ]
    }
   ],
   "source": [
    "def sum_points(my_str):\n",
    "    my_str = my_str.split(\": \")\n",
    "    my_str = my_str[1].split(\", \")\n",
    "    points = 0\n",
    "    for i in my_str:\n",
    "        points += int(i)\n",
    "    return points\n",
    "    \n",
    "with open(\"Оценки.txt\", \"r\", encoding = \"utf-8\") as f:\n",
    "    listt = []\n",
    "    for i in f:\n",
    "        listt.append(sum_points(i))\n",
    "listt.sort()\n",
    "listt.reverse()\n",
    "print(listt)\n",
    "with open(\"Баллы.txt\", \"w\") as f:\n",
    "    for i in listt:\n",
    "        f.write(str(i)+\"\\n\")"
   ]
  },
  {
   "cell_type": "markdown",
   "metadata": {},
   "source": [
    ">(10 баллов) \n",
    "\n",
    "Если параметр функции не является строкой, то функция генерирует\n",
    "собственное исключение. Добавьте в программу обработку исключений (как\n",
    "собственного, так и стандартных)."
   ]
  },
  {
   "cell_type": "code",
   "execution_count": 124,
   "metadata": {},
   "outputs": [
    {
     "name": "stdout",
     "output_type": "stream",
     "text": [
      "[610, 588, 334, 176]\n"
     ]
    }
   ],
   "source": [
    "def sum_points(my_str):\n",
    "    if type(my_str) != str:\n",
    "        raise ValueError(\"параметр не является строкой\")\n",
    "    my_str = my_str.split(\": \")\n",
    "    my_str = my_str[1].split(\", \")\n",
    "    points = 0\n",
    "    for i in my_str:\n",
    "        points += int(i)\n",
    "    return points\n",
    "\n",
    "try:\n",
    "    with open(\"Оценки.txt\", \"r\", encoding = \"utf-8\") as f:\n",
    "        listt = []\n",
    "        for i in f:\n",
    "            listt.append(sum_points(i))\n",
    "    listt.sort()\n",
    "    listt.reverse()\n",
    "    print(listt)\n",
    "    with open(\"Баллы.txt\", \"w\") as f:\n",
    "        for i in listt:\n",
    "            f.write(str(i)+\"\\n\")\n",
    "except ValueError as e:\n",
    "    print(\"Ошибка ValueError:\", e)  \n",
    "\n",
    "except Exception as e:\n",
    "    print(\"Непредвиденная ошибка:\",e)"
   ]
  },
  {
   "cell_type": "markdown",
   "metadata": {},
   "source": [
    "## Task10 \n",
    "- Task10.1✅(10 баллов)\n",
    "> (10 баллов)\n",
    "\n",
    "Текстовый файл Оценки.txt содержит строки вида «Иванов: 100, 45, 89,\n",
    "789». Используя данные этого файла создайте словарь, у которого ключом\n",
    "является фамилия, значением – кортеж из трех чисел (оценки)."
   ]
  },
  {
   "cell_type": "code",
   "execution_count": 29,
   "metadata": {},
   "outputs": [
    {
     "name": "stdout",
     "output_type": "stream",
     "text": [
      "{'Петров': (80, 425, 83), 'Баранов': (100, 145, 89), 'Королёв': (90, 4, 82), 'Иванов': (70, 451, 89)}\n"
     ]
    }
   ],
   "source": [
    "with open(\"Оценки.txt\", \"r\", encoding = \"utf-8\") as f:\n",
    "    d = {}\n",
    "    for i in f:\n",
    "        listt = []\n",
    "        listt2 = []\n",
    "        name, strrr = i.split(\": \")\n",
    "        listt = strrr.split(\", \")\n",
    "        listt = listt[:3]\n",
    "        for i in listt:\n",
    "            listt2.append(int(i))\n",
    "        d[name] = tuple(listt2)\n",
    "    print(d)   "
   ]
  },
  {
   "cell_type": "markdown",
   "metadata": {},
   "source": [
    ">(15 баллов) \n",
    "\n",
    "Напишите функцию, которая для словаря указанного вида находит\n",
    "максимальную и минимальную оценку по заданной дисциплине. Параметрами\n",
    "функции являются словарь и номер дисциплины (от 1 до 3). По умолчанию номер\n",
    "дисциплины равен 1. Функция возвращает кортеж из двух чисел."
   ]
  },
  {
   "cell_type": "raw",
   "metadata": {},
   "source": [
    "def max_min_func(d):\n",
    "    for i in d:\n",
    "        max_m = max(d[i])\n",
    "        min_m = min(d[i])\n",
    "        print(max_m)\n",
    "        print(min_m)\n",
    "        \n",
    "    return (max_m, min_m)\n",
    "with open(\"Оценки.txt\", \"r\", encoding = \"utf-8\") as f:\n",
    "    d = {}\n",
    "    for i in f:\n",
    "        listt = []\n",
    "        listt2 = []\n",
    "        name, strrr = i.split(\": \")\n",
    "        listt = strrr.split(\", \")\n",
    "        listt = listt[:3]\n",
    "        for i in listt:\n",
    "            listt2.append(int(i))\n",
    "        d[name] = tuple(listt2)\n",
    "print(max_min_func(d))"
   ]
  },
  {
   "cell_type": "markdown",
   "metadata": {},
   "source": [
    "## Task11\n",
    "- Task11.1✅(15 баллов)\n",
    "- Task11.2✅(15 баллов)\n",
    "- Task11.3✅(10 баллов)  \n",
    "\n",
    ">(15 баллов) \n",
    "\n",
    "Напишите функцию, которая по 3 сторонам треугольника вычисляет его\n",
    "площадь. Параметрами функции являются длины сторон треугольника. Функция\n",
    "возвращает число (площадь). Если треугольник с заданными сторонами не\n",
    "существует, то – 0."
   ]
  },
  {
   "cell_type": "code",
   "execution_count": 1,
   "metadata": {},
   "outputs": [
    {
     "data": {
      "text/plain": [
       "0"
      ]
     },
     "execution_count": 1,
     "metadata": {},
     "output_type": "execute_result"
    }
   ],
   "source": [
    "import math\n",
    "\n",
    "def triangle(a, b, c):\n",
    "    if a + b <= c or a + c <= b or b + c <= a:\n",
    "        return 0\n",
    "    \n",
    "    p = sum([a, b, c])/2\n",
    "    s = math.sqrt(p*(p-a)*(p-b)*(p-c))\n",
    "    \n",
    "    return s\n",
    "\n",
    "triangle(1, 2, 3)"
   ]
  },
  {
   "cell_type": "markdown",
   "metadata": {},
   "source": [
    ">(15 баллов) \n",
    "\n",
    "Создайте список (с помощью присваивания), содержащий несколько\n",
    "треугольников. Треугольник задается в виде кортежа из 3 чисел (длин сторон).\n",
    "Например, [(3, 4, 5), (5, 2, 4), (1, 2, 1)]. Удалите из списка элементы, которые не\n",
    "являются треугольниками. Отсортируйте список в порядке убывания площадей."
   ]
  },
  {
   "cell_type": "code",
   "execution_count": 2,
   "metadata": {},
   "outputs": [
    {
     "name": "stdout",
     "output_type": "stream",
     "text": [
      "[(6, 8, 10), (3, 8, 10), (4, 4, 4), (3, 4, 5)]\n"
     ]
    }
   ],
   "source": [
    "import math\n",
    "\n",
    "def triangle(a, b, c):\n",
    "    if a + b <= c or a + c <= b or b + c <= a:\n",
    "        return 0\n",
    "    \n",
    "    p = sum([a, b, c])/2\n",
    "    s = math.sqrt(p*(p-a)*(p-b)*(p-c))\n",
    "    \n",
    "    return s\n",
    "\n",
    "input_list = [(3, 4, 5),(6, 8, 10), (4, 4, 4), (3, 8, 10)]\n",
    "              \n",
    "for i in input_list:\n",
    "    if triangle(*i) == 0:\n",
    "        input_list.remove(i)  # Удаление не треугольников\n",
    "    #print(triangle(*i))\n",
    "    \n",
    "input_list = sorted(input_list, key=lambda x: triangle(*x), reverse = True)\n",
    "print(input_list)"
   ]
  },
  {
   "cell_type": "markdown",
   "metadata": {},
   "source": [
    ">(10 баллов)\n",
    "\n",
    "Если параметры функции не являются числами, то функция генерирует\n",
    "собственное исключение. Добавьте в программу обработку исключений (как\n",
    "собственного, так и стандартных)."
   ]
  },
  {
   "cell_type": "code",
   "execution_count": 3,
   "metadata": {},
   "outputs": [
    {
     "name": "stdout",
     "output_type": "stream",
     "text": [
      "[(6, 8, 10), (3, 8, 10), (4, 4, 4), (3, 4, 5)]\n"
     ]
    }
   ],
   "source": [
    "import math\n",
    "\n",
    "def triangle(a, b, c):\n",
    "\n",
    "    for i in a, b, c:\n",
    "        if type(i) != int and type(i) != float:\n",
    "            raise TypeError(\"Параметры функции не являются числами!\")\n",
    "    if a + b <= c or a + c <= b or b + c <= a:\n",
    "        return 0\n",
    "    \n",
    "    p = sum([a, b, c])/2\n",
    "    s = math.sqrt(p*(p-a)*(p-b)*(p-c))\n",
    "    \n",
    "    return s\n",
    "\n",
    "input_list = [(3, 4, 5),(6, 8, 10), (4, 4, 4), (3, 8, 10)]\n",
    "              \n",
    "\n",
    "try:\n",
    "    for i in input_list:\n",
    "        if triangle(*i) == 0:\n",
    "            input_list.remove(i)  # Удаление не треугольников\n",
    "    input_list = sorted(input_list, key=lambda x: triangle(*x), reverse = True)\n",
    "    print(input_list)\n",
    "\n",
    "except TypeError as e:\n",
    "    print(\"Некорректный тип в аргументах метода!\", e)\n",
    "\n",
    "except Exception as e:\n",
    "    print(\"Неожиданная ошибка:\", e)"
   ]
  }
 ],
 "metadata": {
  "kernelspec": {
   "display_name": "Python 3",
   "language": "python",
   "name": "python3"
  },
  "language_info": {
   "codemirror_mode": {
    "name": "ipython",
    "version": 3
   },
   "file_extension": ".py",
   "mimetype": "text/x-python",
   "name": "python",
   "nbconvert_exporter": "python",
   "pygments_lexer": "ipython3",
   "version": "3.7.3"
  }
 },
 "nbformat": 4,
 "nbformat_minor": 4
}
